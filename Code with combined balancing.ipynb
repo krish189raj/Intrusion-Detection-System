{
 "cells": [
  {
   "cell_type": "code",
   "execution_count": 1,
   "id": "174edff0",
   "metadata": {},
   "outputs": [],
   "source": [
    "import pandas as pd \n",
    "import numpy as np\n",
    "import matplotlib.pyplot as plt \n",
    "from sklearn.preprocessing import StandardScaler\n",
    "from sklearn.model_selection import train_test_split\n",
    "from sklearn.metrics import confusion_matrix\n",
    "from sklearn.metrics import classification_report\n",
    "from sklearn.metrics import ConfusionMatrixDisplay\n",
    "from sklearn.metrics import make_scorer, accuracy_score\n",
    "from sklearn.model_selection import GridSearchCV\n",
    "from sklearn.preprocessing import LabelEncoder\n",
    "import seaborn as sns\n",
    "from sklearn.decomposition import PCA\n",
    "from sklearn.model_selection import StratifiedKFold\n",
    "#Importing all the necessory libraries"
   ]
  },
  {
   "cell_type": "code",
   "execution_count": 2,
   "id": "fcf50359",
   "metadata": {},
   "outputs": [],
   "source": [
    "df=pd.read_csv('UNSW_NB15_training-set.csv')"
   ]
  },
  {
   "cell_type": "code",
   "execution_count": 3,
   "id": "3b764c6a",
   "metadata": {},
   "outputs": [],
   "source": [
    "df=df.drop(['id'], axis=1)\n",
    "df=df.drop(['label'], axis=1)"
   ]
  },
  {
   "cell_type": "code",
   "execution_count": 4,
   "id": "764d3269",
   "metadata": {},
   "outputs": [],
   "source": [
    "df=df.drop(['service'], axis=1)"
   ]
  },
  {
   "cell_type": "code",
   "execution_count": 5,
   "id": "57798e2d",
   "metadata": {},
   "outputs": [],
   "source": [
    "X=X = df.drop(columns='attack_cat')"
   ]
  },
  {
   "cell_type": "code",
   "execution_count": 6,
   "id": "90f37dcb",
   "metadata": {},
   "outputs": [],
   "source": [
    "# List of common fake NaN placeholders\n",
    "fake_nan_values = ['-', '?', '']\n",
    "\n",
    "# Create a mask and count occurrences\n",
    "for val in fake_nan_values:\n",
    "    fake_nan_mask = (X == val)\n",
    "    count = fake_nan_mask.sum()\n",
    "    count = count[count > 0]  # Only show columns where the value is found\n",
    "    if not count.empty:\n",
    "        print(f\"\\nPlaceholder '{val}' found in:\")\n",
    "        print(count)\n"
   ]
  },
  {
   "cell_type": "code",
   "execution_count": 7,
   "id": "70ff4529",
   "metadata": {},
   "outputs": [],
   "source": [
    "# Frequency encode 'proto'\n",
    "proto_freq = df['proto'].value_counts(normalize=True)  # relative frequency\n",
    "df['proto'] = df['proto'].map(proto_freq)\n",
    "\n",
    "from sklearn.preprocessing import OneHotEncoder\n",
    "\n",
    "# OneHot encode 'state'\n",
    "df = pd.get_dummies(df, columns=['state'],dtype=int)\n",
    "\n",
    "le = LabelEncoder()\n",
    "\n",
    "# Fit and transform the 'attack_cat' column\n",
    "df['attack_cat'] = le.fit_transform(df['attack_cat'])"
   ]
  },
  {
   "cell_type": "code",
   "execution_count": 8,
   "id": "30422ffc",
   "metadata": {},
   "outputs": [
    {
     "data": {
      "text/html": [
       "<div>\n",
       "<style scoped>\n",
       "    .dataframe tbody tr th:only-of-type {\n",
       "        vertical-align: middle;\n",
       "    }\n",
       "\n",
       "    .dataframe tbody tr th {\n",
       "        vertical-align: top;\n",
       "    }\n",
       "\n",
       "    .dataframe thead th {\n",
       "        text-align: right;\n",
       "    }\n",
       "</style>\n",
       "<table border=\"1\" class=\"dataframe\">\n",
       "  <thead>\n",
       "    <tr style=\"text-align: right;\">\n",
       "      <th></th>\n",
       "      <th>dur</th>\n",
       "      <th>proto</th>\n",
       "      <th>spkts</th>\n",
       "      <th>dpkts</th>\n",
       "      <th>sbytes</th>\n",
       "      <th>dbytes</th>\n",
       "      <th>rate</th>\n",
       "      <th>sttl</th>\n",
       "      <th>dttl</th>\n",
       "      <th>sload</th>\n",
       "      <th>...</th>\n",
       "      <th>attack_cat</th>\n",
       "      <th>state_CON</th>\n",
       "      <th>state_ECO</th>\n",
       "      <th>state_FIN</th>\n",
       "      <th>state_INT</th>\n",
       "      <th>state_PAR</th>\n",
       "      <th>state_REQ</th>\n",
       "      <th>state_RST</th>\n",
       "      <th>state_URN</th>\n",
       "      <th>state_no</th>\n",
       "    </tr>\n",
       "  </thead>\n",
       "  <tbody>\n",
       "    <tr>\n",
       "      <th>0</th>\n",
       "      <td>0.121478</td>\n",
       "      <td>0.455946</td>\n",
       "      <td>6</td>\n",
       "      <td>4</td>\n",
       "      <td>258</td>\n",
       "      <td>172</td>\n",
       "      <td>74.087490</td>\n",
       "      <td>252</td>\n",
       "      <td>254</td>\n",
       "      <td>1.415894e+04</td>\n",
       "      <td>...</td>\n",
       "      <td>6</td>\n",
       "      <td>0</td>\n",
       "      <td>0</td>\n",
       "      <td>1</td>\n",
       "      <td>0</td>\n",
       "      <td>0</td>\n",
       "      <td>0</td>\n",
       "      <td>0</td>\n",
       "      <td>0</td>\n",
       "      <td>0</td>\n",
       "    </tr>\n",
       "    <tr>\n",
       "      <th>1</th>\n",
       "      <td>0.649902</td>\n",
       "      <td>0.455946</td>\n",
       "      <td>14</td>\n",
       "      <td>38</td>\n",
       "      <td>734</td>\n",
       "      <td>42014</td>\n",
       "      <td>78.473372</td>\n",
       "      <td>62</td>\n",
       "      <td>252</td>\n",
       "      <td>8.395112e+03</td>\n",
       "      <td>...</td>\n",
       "      <td>6</td>\n",
       "      <td>0</td>\n",
       "      <td>0</td>\n",
       "      <td>1</td>\n",
       "      <td>0</td>\n",
       "      <td>0</td>\n",
       "      <td>0</td>\n",
       "      <td>0</td>\n",
       "      <td>0</td>\n",
       "      <td>0</td>\n",
       "    </tr>\n",
       "    <tr>\n",
       "      <th>2</th>\n",
       "      <td>1.623129</td>\n",
       "      <td>0.455946</td>\n",
       "      <td>8</td>\n",
       "      <td>16</td>\n",
       "      <td>364</td>\n",
       "      <td>13186</td>\n",
       "      <td>14.170161</td>\n",
       "      <td>62</td>\n",
       "      <td>252</td>\n",
       "      <td>1.572272e+03</td>\n",
       "      <td>...</td>\n",
       "      <td>6</td>\n",
       "      <td>0</td>\n",
       "      <td>0</td>\n",
       "      <td>1</td>\n",
       "      <td>0</td>\n",
       "      <td>0</td>\n",
       "      <td>0</td>\n",
       "      <td>0</td>\n",
       "      <td>0</td>\n",
       "      <td>0</td>\n",
       "    </tr>\n",
       "    <tr>\n",
       "      <th>3</th>\n",
       "      <td>1.681642</td>\n",
       "      <td>0.455946</td>\n",
       "      <td>12</td>\n",
       "      <td>12</td>\n",
       "      <td>628</td>\n",
       "      <td>770</td>\n",
       "      <td>13.677108</td>\n",
       "      <td>62</td>\n",
       "      <td>252</td>\n",
       "      <td>2.740179e+03</td>\n",
       "      <td>...</td>\n",
       "      <td>6</td>\n",
       "      <td>0</td>\n",
       "      <td>0</td>\n",
       "      <td>1</td>\n",
       "      <td>0</td>\n",
       "      <td>0</td>\n",
       "      <td>0</td>\n",
       "      <td>0</td>\n",
       "      <td>0</td>\n",
       "      <td>0</td>\n",
       "    </tr>\n",
       "    <tr>\n",
       "      <th>4</th>\n",
       "      <td>0.449454</td>\n",
       "      <td>0.455946</td>\n",
       "      <td>10</td>\n",
       "      <td>6</td>\n",
       "      <td>534</td>\n",
       "      <td>268</td>\n",
       "      <td>33.373826</td>\n",
       "      <td>254</td>\n",
       "      <td>252</td>\n",
       "      <td>8.561499e+03</td>\n",
       "      <td>...</td>\n",
       "      <td>6</td>\n",
       "      <td>0</td>\n",
       "      <td>0</td>\n",
       "      <td>1</td>\n",
       "      <td>0</td>\n",
       "      <td>0</td>\n",
       "      <td>0</td>\n",
       "      <td>0</td>\n",
       "      <td>0</td>\n",
       "      <td>0</td>\n",
       "    </tr>\n",
       "    <tr>\n",
       "      <th>...</th>\n",
       "      <td>...</td>\n",
       "      <td>...</td>\n",
       "      <td>...</td>\n",
       "      <td>...</td>\n",
       "      <td>...</td>\n",
       "      <td>...</td>\n",
       "      <td>...</td>\n",
       "      <td>...</td>\n",
       "      <td>...</td>\n",
       "      <td>...</td>\n",
       "      <td>...</td>\n",
       "      <td>...</td>\n",
       "      <td>...</td>\n",
       "      <td>...</td>\n",
       "      <td>...</td>\n",
       "      <td>...</td>\n",
       "      <td>...</td>\n",
       "      <td>...</td>\n",
       "      <td>...</td>\n",
       "      <td>...</td>\n",
       "      <td>...</td>\n",
       "    </tr>\n",
       "    <tr>\n",
       "      <th>175336</th>\n",
       "      <td>0.000009</td>\n",
       "      <td>0.360914</td>\n",
       "      <td>2</td>\n",
       "      <td>0</td>\n",
       "      <td>114</td>\n",
       "      <td>0</td>\n",
       "      <td>111111.107200</td>\n",
       "      <td>254</td>\n",
       "      <td>0</td>\n",
       "      <td>5.066666e+07</td>\n",
       "      <td>...</td>\n",
       "      <td>5</td>\n",
       "      <td>0</td>\n",
       "      <td>0</td>\n",
       "      <td>0</td>\n",
       "      <td>1</td>\n",
       "      <td>0</td>\n",
       "      <td>0</td>\n",
       "      <td>0</td>\n",
       "      <td>0</td>\n",
       "      <td>0</td>\n",
       "    </tr>\n",
       "    <tr>\n",
       "      <th>175337</th>\n",
       "      <td>0.505762</td>\n",
       "      <td>0.455946</td>\n",
       "      <td>10</td>\n",
       "      <td>8</td>\n",
       "      <td>620</td>\n",
       "      <td>354</td>\n",
       "      <td>33.612649</td>\n",
       "      <td>254</td>\n",
       "      <td>252</td>\n",
       "      <td>8.826286e+03</td>\n",
       "      <td>...</td>\n",
       "      <td>8</td>\n",
       "      <td>0</td>\n",
       "      <td>0</td>\n",
       "      <td>1</td>\n",
       "      <td>0</td>\n",
       "      <td>0</td>\n",
       "      <td>0</td>\n",
       "      <td>0</td>\n",
       "      <td>0</td>\n",
       "      <td>0</td>\n",
       "    </tr>\n",
       "    <tr>\n",
       "      <th>175338</th>\n",
       "      <td>0.000009</td>\n",
       "      <td>0.360914</td>\n",
       "      <td>2</td>\n",
       "      <td>0</td>\n",
       "      <td>114</td>\n",
       "      <td>0</td>\n",
       "      <td>111111.107200</td>\n",
       "      <td>254</td>\n",
       "      <td>0</td>\n",
       "      <td>5.066666e+07</td>\n",
       "      <td>...</td>\n",
       "      <td>5</td>\n",
       "      <td>0</td>\n",
       "      <td>0</td>\n",
       "      <td>0</td>\n",
       "      <td>1</td>\n",
       "      <td>0</td>\n",
       "      <td>0</td>\n",
       "      <td>0</td>\n",
       "      <td>0</td>\n",
       "      <td>0</td>\n",
       "    </tr>\n",
       "    <tr>\n",
       "      <th>175339</th>\n",
       "      <td>0.000009</td>\n",
       "      <td>0.360914</td>\n",
       "      <td>2</td>\n",
       "      <td>0</td>\n",
       "      <td>114</td>\n",
       "      <td>0</td>\n",
       "      <td>111111.107200</td>\n",
       "      <td>254</td>\n",
       "      <td>0</td>\n",
       "      <td>5.066666e+07</td>\n",
       "      <td>...</td>\n",
       "      <td>5</td>\n",
       "      <td>0</td>\n",
       "      <td>0</td>\n",
       "      <td>0</td>\n",
       "      <td>1</td>\n",
       "      <td>0</td>\n",
       "      <td>0</td>\n",
       "      <td>0</td>\n",
       "      <td>0</td>\n",
       "      <td>0</td>\n",
       "    </tr>\n",
       "    <tr>\n",
       "      <th>175340</th>\n",
       "      <td>0.000009</td>\n",
       "      <td>0.360914</td>\n",
       "      <td>2</td>\n",
       "      <td>0</td>\n",
       "      <td>114</td>\n",
       "      <td>0</td>\n",
       "      <td>111111.107200</td>\n",
       "      <td>254</td>\n",
       "      <td>0</td>\n",
       "      <td>5.066666e+07</td>\n",
       "      <td>...</td>\n",
       "      <td>5</td>\n",
       "      <td>0</td>\n",
       "      <td>0</td>\n",
       "      <td>0</td>\n",
       "      <td>1</td>\n",
       "      <td>0</td>\n",
       "      <td>0</td>\n",
       "      <td>0</td>\n",
       "      <td>0</td>\n",
       "      <td>0</td>\n",
       "    </tr>\n",
       "  </tbody>\n",
       "</table>\n",
       "<p>175341 rows × 50 columns</p>\n",
       "</div>"
      ],
      "text/plain": [
       "             dur     proto  spkts  dpkts  sbytes  dbytes           rate  sttl  \\\n",
       "0       0.121478  0.455946      6      4     258     172      74.087490   252   \n",
       "1       0.649902  0.455946     14     38     734   42014      78.473372    62   \n",
       "2       1.623129  0.455946      8     16     364   13186      14.170161    62   \n",
       "3       1.681642  0.455946     12     12     628     770      13.677108    62   \n",
       "4       0.449454  0.455946     10      6     534     268      33.373826   254   \n",
       "...          ...       ...    ...    ...     ...     ...            ...   ...   \n",
       "175336  0.000009  0.360914      2      0     114       0  111111.107200   254   \n",
       "175337  0.505762  0.455946     10      8     620     354      33.612649   254   \n",
       "175338  0.000009  0.360914      2      0     114       0  111111.107200   254   \n",
       "175339  0.000009  0.360914      2      0     114       0  111111.107200   254   \n",
       "175340  0.000009  0.360914      2      0     114       0  111111.107200   254   \n",
       "\n",
       "        dttl         sload  ...  attack_cat  state_CON  state_ECO  state_FIN  \\\n",
       "0        254  1.415894e+04  ...           6          0          0          1   \n",
       "1        252  8.395112e+03  ...           6          0          0          1   \n",
       "2        252  1.572272e+03  ...           6          0          0          1   \n",
       "3        252  2.740179e+03  ...           6          0          0          1   \n",
       "4        252  8.561499e+03  ...           6          0          0          1   \n",
       "...      ...           ...  ...         ...        ...        ...        ...   \n",
       "175336     0  5.066666e+07  ...           5          0          0          0   \n",
       "175337   252  8.826286e+03  ...           8          0          0          1   \n",
       "175338     0  5.066666e+07  ...           5          0          0          0   \n",
       "175339     0  5.066666e+07  ...           5          0          0          0   \n",
       "175340     0  5.066666e+07  ...           5          0          0          0   \n",
       "\n",
       "        state_INT  state_PAR  state_REQ  state_RST  state_URN  state_no  \n",
       "0               0          0          0          0          0         0  \n",
       "1               0          0          0          0          0         0  \n",
       "2               0          0          0          0          0         0  \n",
       "3               0          0          0          0          0         0  \n",
       "4               0          0          0          0          0         0  \n",
       "...           ...        ...        ...        ...        ...       ...  \n",
       "175336          1          0          0          0          0         0  \n",
       "175337          0          0          0          0          0         0  \n",
       "175338          1          0          0          0          0         0  \n",
       "175339          1          0          0          0          0         0  \n",
       "175340          1          0          0          0          0         0  \n",
       "\n",
       "[175341 rows x 50 columns]"
      ]
     },
     "execution_count": 8,
     "metadata": {},
     "output_type": "execute_result"
    }
   ],
   "source": [
    "df"
   ]
  },
  {
   "cell_type": "code",
   "execution_count": 9,
   "id": "58d9b043",
   "metadata": {},
   "outputs": [],
   "source": [
    "X=X = df.drop(columns='attack_cat')\n",
    "y=df['attack_cat']"
   ]
  },
  {
   "cell_type": "code",
   "execution_count": 11,
   "id": "f9bd4e3c",
   "metadata": {},
   "outputs": [],
   "source": [
    "from imblearn.combine import SMOTEENN\n",
    "from imblearn.over_sampling import ADASYN\n",
    "\n",
    "# First, apply ADASYN to oversample the minority classes\n",
    "adasyn = ADASYN(random_state=42)\n",
    "X_adasyn, y_adasyn = adasyn.fit_resample(X, y)\n",
    "\n",
    "# Then, apply SMOTE-ENN to the ADASYN-resampled data\n",
    "smote_enn = SMOTEENN(random_state=42)\n",
    "X_balanced, y_balanced = smote_enn.fit_resample(X_adasyn, y_adasyn)\n",
    "\n",
    "# Update the dataframe accordingly\n",
    "df_balanced = X_balanced.copy()\n",
    "df_balanced['attack_cat'] = y_balanced\n",
    "\n",
    "# Optionally, update X and y as well\n",
    "X = X_balanced\n",
    "y = y_balanced"
   ]
  },
  {
   "cell_type": "code",
   "execution_count": 12,
   "id": "2e611821",
   "metadata": {},
   "outputs": [],
   "source": [
    "df=df_balanced"
   ]
  },
  {
   "cell_type": "code",
   "execution_count": 13,
   "id": "5e24492d",
   "metadata": {},
   "outputs": [
    {
     "data": {
      "text/html": [
       "<div>\n",
       "<style scoped>\n",
       "    .dataframe tbody tr th:only-of-type {\n",
       "        vertical-align: middle;\n",
       "    }\n",
       "\n",
       "    .dataframe tbody tr th {\n",
       "        vertical-align: top;\n",
       "    }\n",
       "\n",
       "    .dataframe thead th {\n",
       "        text-align: right;\n",
       "    }\n",
       "</style>\n",
       "<table border=\"1\" class=\"dataframe\">\n",
       "  <thead>\n",
       "    <tr style=\"text-align: right;\">\n",
       "      <th></th>\n",
       "      <th>dur</th>\n",
       "      <th>proto</th>\n",
       "      <th>spkts</th>\n",
       "      <th>dpkts</th>\n",
       "      <th>sbytes</th>\n",
       "      <th>dbytes</th>\n",
       "      <th>rate</th>\n",
       "      <th>sttl</th>\n",
       "      <th>dttl</th>\n",
       "      <th>sload</th>\n",
       "      <th>...</th>\n",
       "      <th>state_CON</th>\n",
       "      <th>state_ECO</th>\n",
       "      <th>state_FIN</th>\n",
       "      <th>state_INT</th>\n",
       "      <th>state_PAR</th>\n",
       "      <th>state_REQ</th>\n",
       "      <th>state_RST</th>\n",
       "      <th>state_URN</th>\n",
       "      <th>state_no</th>\n",
       "      <th>attack_cat</th>\n",
       "    </tr>\n",
       "  </thead>\n",
       "  <tbody>\n",
       "    <tr>\n",
       "      <th>0</th>\n",
       "      <td>0.000008</td>\n",
       "      <td>0.068917</td>\n",
       "      <td>2</td>\n",
       "      <td>0</td>\n",
       "      <td>200</td>\n",
       "      <td>0</td>\n",
       "      <td>125000.000300</td>\n",
       "      <td>254</td>\n",
       "      <td>0</td>\n",
       "      <td>1.000000e+08</td>\n",
       "      <td>...</td>\n",
       "      <td>0</td>\n",
       "      <td>0</td>\n",
       "      <td>0</td>\n",
       "      <td>1</td>\n",
       "      <td>0</td>\n",
       "      <td>0</td>\n",
       "      <td>0</td>\n",
       "      <td>0</td>\n",
       "      <td>0</td>\n",
       "      <td>0</td>\n",
       "    </tr>\n",
       "    <tr>\n",
       "      <th>1</th>\n",
       "      <td>0.000008</td>\n",
       "      <td>0.068917</td>\n",
       "      <td>2</td>\n",
       "      <td>0</td>\n",
       "      <td>200</td>\n",
       "      <td>0</td>\n",
       "      <td>125000.000300</td>\n",
       "      <td>254</td>\n",
       "      <td>0</td>\n",
       "      <td>1.000000e+08</td>\n",
       "      <td>...</td>\n",
       "      <td>0</td>\n",
       "      <td>0</td>\n",
       "      <td>0</td>\n",
       "      <td>1</td>\n",
       "      <td>0</td>\n",
       "      <td>0</td>\n",
       "      <td>0</td>\n",
       "      <td>0</td>\n",
       "      <td>0</td>\n",
       "      <td>0</td>\n",
       "    </tr>\n",
       "    <tr>\n",
       "      <th>2</th>\n",
       "      <td>0.000008</td>\n",
       "      <td>0.068917</td>\n",
       "      <td>2</td>\n",
       "      <td>0</td>\n",
       "      <td>200</td>\n",
       "      <td>0</td>\n",
       "      <td>125000.000300</td>\n",
       "      <td>254</td>\n",
       "      <td>0</td>\n",
       "      <td>1.000000e+08</td>\n",
       "      <td>...</td>\n",
       "      <td>0</td>\n",
       "      <td>0</td>\n",
       "      <td>0</td>\n",
       "      <td>1</td>\n",
       "      <td>0</td>\n",
       "      <td>0</td>\n",
       "      <td>0</td>\n",
       "      <td>0</td>\n",
       "      <td>0</td>\n",
       "      <td>0</td>\n",
       "    </tr>\n",
       "    <tr>\n",
       "      <th>3</th>\n",
       "      <td>0.000003</td>\n",
       "      <td>0.068917</td>\n",
       "      <td>2</td>\n",
       "      <td>0</td>\n",
       "      <td>200</td>\n",
       "      <td>0</td>\n",
       "      <td>333333.321500</td>\n",
       "      <td>254</td>\n",
       "      <td>0</td>\n",
       "      <td>2.666667e+08</td>\n",
       "      <td>...</td>\n",
       "      <td>0</td>\n",
       "      <td>0</td>\n",
       "      <td>0</td>\n",
       "      <td>1</td>\n",
       "      <td>0</td>\n",
       "      <td>0</td>\n",
       "      <td>0</td>\n",
       "      <td>0</td>\n",
       "      <td>0</td>\n",
       "      <td>0</td>\n",
       "    </tr>\n",
       "    <tr>\n",
       "      <th>4</th>\n",
       "      <td>0.000008</td>\n",
       "      <td>0.068917</td>\n",
       "      <td>2</td>\n",
       "      <td>0</td>\n",
       "      <td>200</td>\n",
       "      <td>0</td>\n",
       "      <td>125000.000300</td>\n",
       "      <td>254</td>\n",
       "      <td>0</td>\n",
       "      <td>1.000000e+08</td>\n",
       "      <td>...</td>\n",
       "      <td>0</td>\n",
       "      <td>0</td>\n",
       "      <td>0</td>\n",
       "      <td>1</td>\n",
       "      <td>0</td>\n",
       "      <td>0</td>\n",
       "      <td>0</td>\n",
       "      <td>0</td>\n",
       "      <td>0</td>\n",
       "      <td>0</td>\n",
       "    </tr>\n",
       "    <tr>\n",
       "      <th>...</th>\n",
       "      <td>...</td>\n",
       "      <td>...</td>\n",
       "      <td>...</td>\n",
       "      <td>...</td>\n",
       "      <td>...</td>\n",
       "      <td>...</td>\n",
       "      <td>...</td>\n",
       "      <td>...</td>\n",
       "      <td>...</td>\n",
       "      <td>...</td>\n",
       "      <td>...</td>\n",
       "      <td>...</td>\n",
       "      <td>...</td>\n",
       "      <td>...</td>\n",
       "      <td>...</td>\n",
       "      <td>...</td>\n",
       "      <td>...</td>\n",
       "      <td>...</td>\n",
       "      <td>...</td>\n",
       "      <td>...</td>\n",
       "      <td>...</td>\n",
       "    </tr>\n",
       "    <tr>\n",
       "      <th>208679</th>\n",
       "      <td>0.842863</td>\n",
       "      <td>0.455946</td>\n",
       "      <td>10</td>\n",
       "      <td>7</td>\n",
       "      <td>1103</td>\n",
       "      <td>653</td>\n",
       "      <td>23.995574</td>\n",
       "      <td>184</td>\n",
       "      <td>252</td>\n",
       "      <td>1.243280e+04</td>\n",
       "      <td>...</td>\n",
       "      <td>0</td>\n",
       "      <td>0</td>\n",
       "      <td>1</td>\n",
       "      <td>0</td>\n",
       "      <td>0</td>\n",
       "      <td>0</td>\n",
       "      <td>0</td>\n",
       "      <td>0</td>\n",
       "      <td>0</td>\n",
       "      <td>9</td>\n",
       "    </tr>\n",
       "    <tr>\n",
       "      <th>208680</th>\n",
       "      <td>0.735212</td>\n",
       "      <td>0.455946</td>\n",
       "      <td>8</td>\n",
       "      <td>4</td>\n",
       "      <td>1179</td>\n",
       "      <td>221</td>\n",
       "      <td>19.849428</td>\n",
       "      <td>254</td>\n",
       "      <td>252</td>\n",
       "      <td>1.378799e+04</td>\n",
       "      <td>...</td>\n",
       "      <td>0</td>\n",
       "      <td>0</td>\n",
       "      <td>0</td>\n",
       "      <td>0</td>\n",
       "      <td>0</td>\n",
       "      <td>0</td>\n",
       "      <td>0</td>\n",
       "      <td>0</td>\n",
       "      <td>0</td>\n",
       "      <td>9</td>\n",
       "    </tr>\n",
       "    <tr>\n",
       "      <th>208681</th>\n",
       "      <td>2.412336</td>\n",
       "      <td>0.455946</td>\n",
       "      <td>34</td>\n",
       "      <td>181</td>\n",
       "      <td>1920</td>\n",
       "      <td>233620</td>\n",
       "      <td>85.301772</td>\n",
       "      <td>254</td>\n",
       "      <td>252</td>\n",
       "      <td>6.196140e+03</td>\n",
       "      <td>...</td>\n",
       "      <td>0</td>\n",
       "      <td>0</td>\n",
       "      <td>1</td>\n",
       "      <td>0</td>\n",
       "      <td>0</td>\n",
       "      <td>0</td>\n",
       "      <td>0</td>\n",
       "      <td>0</td>\n",
       "      <td>0</td>\n",
       "      <td>9</td>\n",
       "    </tr>\n",
       "    <tr>\n",
       "      <th>208682</th>\n",
       "      <td>1.097013</td>\n",
       "      <td>0.455946</td>\n",
       "      <td>10</td>\n",
       "      <td>8</td>\n",
       "      <td>1306</td>\n",
       "      <td>354</td>\n",
       "      <td>15.501940</td>\n",
       "      <td>254</td>\n",
       "      <td>252</td>\n",
       "      <td>8.587961e+03</td>\n",
       "      <td>...</td>\n",
       "      <td>0</td>\n",
       "      <td>0</td>\n",
       "      <td>1</td>\n",
       "      <td>0</td>\n",
       "      <td>0</td>\n",
       "      <td>0</td>\n",
       "      <td>0</td>\n",
       "      <td>0</td>\n",
       "      <td>0</td>\n",
       "      <td>9</td>\n",
       "    </tr>\n",
       "    <tr>\n",
       "      <th>208683</th>\n",
       "      <td>0.683908</td>\n",
       "      <td>0.455946</td>\n",
       "      <td>10</td>\n",
       "      <td>6</td>\n",
       "      <td>1171</td>\n",
       "      <td>268</td>\n",
       "      <td>24.776710</td>\n",
       "      <td>254</td>\n",
       "      <td>252</td>\n",
       "      <td>1.332639e+04</td>\n",
       "      <td>...</td>\n",
       "      <td>0</td>\n",
       "      <td>0</td>\n",
       "      <td>1</td>\n",
       "      <td>0</td>\n",
       "      <td>0</td>\n",
       "      <td>0</td>\n",
       "      <td>0</td>\n",
       "      <td>0</td>\n",
       "      <td>0</td>\n",
       "      <td>9</td>\n",
       "    </tr>\n",
       "  </tbody>\n",
       "</table>\n",
       "<p>208684 rows × 50 columns</p>\n",
       "</div>"
      ],
      "text/plain": [
       "             dur     proto  spkts  dpkts  sbytes  dbytes           rate  sttl  \\\n",
       "0       0.000008  0.068917      2      0     200       0  125000.000300   254   \n",
       "1       0.000008  0.068917      2      0     200       0  125000.000300   254   \n",
       "2       0.000008  0.068917      2      0     200       0  125000.000300   254   \n",
       "3       0.000003  0.068917      2      0     200       0  333333.321500   254   \n",
       "4       0.000008  0.068917      2      0     200       0  125000.000300   254   \n",
       "...          ...       ...    ...    ...     ...     ...            ...   ...   \n",
       "208679  0.842863  0.455946     10      7    1103     653      23.995574   184   \n",
       "208680  0.735212  0.455946      8      4    1179     221      19.849428   254   \n",
       "208681  2.412336  0.455946     34    181    1920  233620      85.301772   254   \n",
       "208682  1.097013  0.455946     10      8    1306     354      15.501940   254   \n",
       "208683  0.683908  0.455946     10      6    1171     268      24.776710   254   \n",
       "\n",
       "        dttl         sload  ...  state_CON  state_ECO  state_FIN  state_INT  \\\n",
       "0          0  1.000000e+08  ...          0          0          0          1   \n",
       "1          0  1.000000e+08  ...          0          0          0          1   \n",
       "2          0  1.000000e+08  ...          0          0          0          1   \n",
       "3          0  2.666667e+08  ...          0          0          0          1   \n",
       "4          0  1.000000e+08  ...          0          0          0          1   \n",
       "...      ...           ...  ...        ...        ...        ...        ...   \n",
       "208679   252  1.243280e+04  ...          0          0          1          0   \n",
       "208680   252  1.378799e+04  ...          0          0          0          0   \n",
       "208681   252  6.196140e+03  ...          0          0          1          0   \n",
       "208682   252  8.587961e+03  ...          0          0          1          0   \n",
       "208683   252  1.332639e+04  ...          0          0          1          0   \n",
       "\n",
       "        state_PAR  state_REQ  state_RST  state_URN  state_no  attack_cat  \n",
       "0               0          0          0          0         0           0  \n",
       "1               0          0          0          0         0           0  \n",
       "2               0          0          0          0         0           0  \n",
       "3               0          0          0          0         0           0  \n",
       "4               0          0          0          0         0           0  \n",
       "...           ...        ...        ...        ...       ...         ...  \n",
       "208679          0          0          0          0         0           9  \n",
       "208680          0          0          0          0         0           9  \n",
       "208681          0          0          0          0         0           9  \n",
       "208682          0          0          0          0         0           9  \n",
       "208683          0          0          0          0         0           9  \n",
       "\n",
       "[208684 rows x 50 columns]"
      ]
     },
     "execution_count": 13,
     "metadata": {},
     "output_type": "execute_result"
    }
   ],
   "source": [
    "df"
   ]
  },
  {
   "cell_type": "code",
   "execution_count": 84,
   "id": "ec8e4032",
   "metadata": {},
   "outputs": [
    {
     "name": "stdout",
     "output_type": "stream",
     "text": [
      "Analysis: 13219\n",
      "Backdoor: 7183\n",
      "DoS: 2681\n",
      "Exploits: 5514\n",
      "Fuzzers: 14379\n",
      "Generic: 42355\n",
      "Normal: 37430\n",
      "Reconnaissance: 15344\n",
      "Shellcode: 31362\n",
      "Worms: 39217\n"
     ]
    }
   ],
   "source": [
    "# Map encoded attack_cat values back to their original category names using LabelEncoder\n",
    "attack_cat_counts = df['attack_cat'].value_counts().sort_index()\n",
    "attack_cat_names = le.inverse_transform(attack_cat_counts.index)\n",
    "\n",
    "for name, count in zip(attack_cat_names, attack_cat_counts):\n",
    "    print(f\"{name}: {count}\")"
   ]
  },
  {
   "cell_type": "code",
   "execution_count": 14,
   "id": "d19d5f49",
   "metadata": {},
   "outputs": [],
   "source": [
    "X=X = df.drop(columns='attack_cat')\n",
    "y=df['attack_cat']"
   ]
  },
  {
   "cell_type": "code",
   "execution_count": 15,
   "id": "15553c6e",
   "metadata": {},
   "outputs": [
    {
     "name": "stdout",
     "output_type": "stream",
     "text": [
      "Columns removed: ['sbytes', 'dbytes', 'sloss', 'dloss', 'swin', 'dwin', 'tcprtt', 'synack', 'ackdat', 'ct_dst_ltm', 'ct_src_dport_ltm', 'ct_dst_sport_ltm', 'ct_dst_src_ltm', 'ct_ftp_cmd', 'ct_src_ltm', 'ct_srv_dst', 'is_sm_ips_ports', 'state_FIN']\n"
     ]
    }
   ],
   "source": [
    "corr_matrix = X.corr()\n",
    "\n",
    "# Get the upper triangle of the correlation matrix (to avoid redundancy)\n",
    "upper = corr_matrix.where(np.triu(np.ones(corr_matrix.shape), k=1).astype(bool))\n",
    "\n",
    "# Find columns with correlation greater than 0.8\n",
    "to_drop = [column for column in upper.columns if any(upper[column] > 0.8)]\n",
    "\n",
    "# Remove those columns from X\n",
    "df = df.drop(columns=to_drop)\n",
    "\n",
    "# Display the reduced X shape and columns\n",
    "print(f\"Columns removed: {to_drop}\")\n"
   ]
  },
  {
   "cell_type": "code",
   "execution_count": 16,
   "id": "d60c72c8",
   "metadata": {},
   "outputs": [],
   "source": [
    "X=X = df.drop(columns='attack_cat')\n",
    "y=df['attack_cat']"
   ]
  },
  {
   "cell_type": "code",
   "execution_count": 17,
   "id": "c52324a4",
   "metadata": {},
   "outputs": [],
   "source": [
    "scaler=StandardScaler()\n",
    "X=scaler.fit_transform(X)"
   ]
  },
  {
   "cell_type": "code",
   "execution_count": 18,
   "id": "200229fd",
   "metadata": {},
   "outputs": [],
   "source": [
    "from sklearn.tree import DecisionTreeClassifier\n",
    "from sklearn.model_selection import train_test_split\n",
    "from sklearn.metrics import accuracy_score, classification_report\n",
    "\n",
    "from sklearn.ensemble import RandomForestClassifier\n",
    "\n",
    "from sklearn.linear_model import LogisticRegression\n",
    "\n",
    "from sklearn.neighbors import KNeighborsClassifier\n",
    "\n",
    "from xgboost import XGBClassifier\n",
    "from lightgbm import LGBMClassifier\n",
    "from sklearn.ensemble import BaggingClassifier"
   ]
  },
  {
   "cell_type": "code",
   "execution_count": 19,
   "id": "e759c830",
   "metadata": {},
   "outputs": [
    {
     "name": "stdout",
     "output_type": "stream",
     "text": [
      "['dur', 'proto', 'spkts', 'dpkts', 'rate', 'sttl', 'dttl', 'sload', 'dload', 'sinpkt', 'dinpkt', 'sjit', 'djit', 'stcpb', 'dtcpb', 'smean', 'dmean', 'trans_depth', 'response_body_len', 'ct_srv_src', 'ct_state_ttl', 'is_ftp_login', 'ct_flw_http_mthd', 'state_CON', 'state_ECO', 'state_INT', 'state_PAR', 'state_REQ', 'state_RST', 'state_URN', 'state_no']\n"
     ]
    }
   ],
   "source": [
    "feature_names = df.drop('attack_cat', axis=1).columns.tolist()\n",
    "print(feature_names)"
   ]
  },
  {
   "cell_type": "code",
   "execution_count": 20,
   "id": "6f92eb4d",
   "metadata": {},
   "outputs": [
    {
     "name": "stdout",
     "output_type": "stream",
     "text": [
      "gen\tnevals\n",
      "0  \t20    \n",
      "1  \t13    \n",
      "2  \t15    \n",
      "3  \t16    \n",
      "4  \t16    \n",
      "5  \t10    \n",
      "6  \t9     \n",
      "7  \t14    \n",
      "8  \t11    \n",
      "9  \t9     \n",
      "10 \t8     \n",
      "Selected features: ['proto', 'spkts', 'dpkts', 'rate', 'sttl', 'dttl', 'sload', 'djit', 'stcpb', 'dtcpb', 'smean', 'dmean', 'trans_depth', 'ct_srv_src', 'ct_flw_http_mthd', 'state_CON', 'state_no']\n"
     ]
    }
   ],
   "source": [
    "from sklearn.model_selection import cross_val_score\n",
    "from sklearn.ensemble import RandomForestClassifier\n",
    "from sklearn.base import clone\n",
    "import numpy as np\n",
    "from deap import base, creator, tools, algorithms\n",
    "\n",
    "# Use the already prepared X and y\n",
    "# X is scaled, y is encoded\n",
    "\n",
    "# Define evaluation function\n",
    "def eval_genome(genome):\n",
    "    if sum(genome) == 0:\n",
    "        return 0,\n",
    "    selected_features = [i for i, bit in enumerate(genome) if bit]\n",
    "    X_selected = X[:, selected_features]\n",
    "    clf = clone(RandomForestClassifier(n_estimators=50, random_state=42, n_jobs=-1))\n",
    "    scores = cross_val_score(clf, X_selected, y, cv=3, scoring='accuracy', n_jobs=-1)\n",
    "    return scores.mean(),\n",
    "\n",
    "# Setup DEAP genetic algorithm\n",
    "n_features = X.shape[1]\n",
    "creator.create(\"FitnessMax\", base.Fitness, weights=(1.0,))\n",
    "creator.create(\"Individual\", list, fitness=creator.FitnessMax)\n",
    "\n",
    "toolbox = base.Toolbox()\n",
    "toolbox.register(\"attr_bool\", np.random.randint, 0, 2)\n",
    "toolbox.register(\"individual\", tools.initRepeat, creator.Individual, toolbox.attr_bool, n=n_features)\n",
    "toolbox.register(\"population\", tools.initRepeat, list, toolbox.individual)\n",
    "\n",
    "toolbox.register(\"evaluate\", eval_genome)\n",
    "toolbox.register(\"mate\", tools.cxTwoPoint)\n",
    "toolbox.register(\"mutate\", tools.mutFlipBit, indpb=0.05)\n",
    "toolbox.register(\"select\", tools.selTournament, tournsize=3)\n",
    "\n",
    "# Run GA\n",
    "pop = toolbox.population(n=20)\n",
    "hof = tools.HallOfFame(1)\n",
    "algorithms.eaSimple(pop, toolbox, cxpb=0.5, mutpb=0.2, ngen=10, halloffame=hof, verbose=True)\n",
    "\n",
    "# Get the best feature subset\n",
    "best_ind = hof[0]\n",
    "selected_features = [feature_names[i] for i, bit in enumerate(best_ind) if bit]\n",
    "print(\"Selected features:\", selected_features)"
   ]
  },
  {
   "cell_type": "code",
   "execution_count": 21,
   "id": "ab1247d1",
   "metadata": {},
   "outputs": [],
   "source": [
    "# Create a new feature_names list based on selected_features\n",
    "feature_names = selected_features.copy()\n",
    "\n",
    "# Update the dataframe to keep only the selected features and the target column\n",
    "df = df[feature_names + ['attack_cat']]"
   ]
  },
  {
   "cell_type": "code",
   "execution_count": 22,
   "id": "f43ddd87",
   "metadata": {},
   "outputs": [
    {
     "data": {
      "text/html": [
       "<div>\n",
       "<style scoped>\n",
       "    .dataframe tbody tr th:only-of-type {\n",
       "        vertical-align: middle;\n",
       "    }\n",
       "\n",
       "    .dataframe tbody tr th {\n",
       "        vertical-align: top;\n",
       "    }\n",
       "\n",
       "    .dataframe thead th {\n",
       "        text-align: right;\n",
       "    }\n",
       "</style>\n",
       "<table border=\"1\" class=\"dataframe\">\n",
       "  <thead>\n",
       "    <tr style=\"text-align: right;\">\n",
       "      <th></th>\n",
       "      <th>proto</th>\n",
       "      <th>spkts</th>\n",
       "      <th>dpkts</th>\n",
       "      <th>rate</th>\n",
       "      <th>sttl</th>\n",
       "      <th>dttl</th>\n",
       "      <th>sload</th>\n",
       "      <th>djit</th>\n",
       "      <th>stcpb</th>\n",
       "      <th>dtcpb</th>\n",
       "      <th>smean</th>\n",
       "      <th>dmean</th>\n",
       "      <th>trans_depth</th>\n",
       "      <th>ct_srv_src</th>\n",
       "      <th>ct_flw_http_mthd</th>\n",
       "      <th>state_CON</th>\n",
       "      <th>state_no</th>\n",
       "      <th>attack_cat</th>\n",
       "    </tr>\n",
       "  </thead>\n",
       "  <tbody>\n",
       "    <tr>\n",
       "      <th>0</th>\n",
       "      <td>0.068917</td>\n",
       "      <td>2</td>\n",
       "      <td>0</td>\n",
       "      <td>125000.000300</td>\n",
       "      <td>254</td>\n",
       "      <td>0</td>\n",
       "      <td>1.000000e+08</td>\n",
       "      <td>0.000000</td>\n",
       "      <td>0</td>\n",
       "      <td>0</td>\n",
       "      <td>100</td>\n",
       "      <td>0</td>\n",
       "      <td>0</td>\n",
       "      <td>9</td>\n",
       "      <td>0</td>\n",
       "      <td>0</td>\n",
       "      <td>0</td>\n",
       "      <td>0</td>\n",
       "    </tr>\n",
       "    <tr>\n",
       "      <th>1</th>\n",
       "      <td>0.068917</td>\n",
       "      <td>2</td>\n",
       "      <td>0</td>\n",
       "      <td>125000.000300</td>\n",
       "      <td>254</td>\n",
       "      <td>0</td>\n",
       "      <td>1.000000e+08</td>\n",
       "      <td>0.000000</td>\n",
       "      <td>0</td>\n",
       "      <td>0</td>\n",
       "      <td>100</td>\n",
       "      <td>0</td>\n",
       "      <td>0</td>\n",
       "      <td>9</td>\n",
       "      <td>0</td>\n",
       "      <td>0</td>\n",
       "      <td>0</td>\n",
       "      <td>0</td>\n",
       "    </tr>\n",
       "    <tr>\n",
       "      <th>2</th>\n",
       "      <td>0.068917</td>\n",
       "      <td>2</td>\n",
       "      <td>0</td>\n",
       "      <td>125000.000300</td>\n",
       "      <td>254</td>\n",
       "      <td>0</td>\n",
       "      <td>1.000000e+08</td>\n",
       "      <td>0.000000</td>\n",
       "      <td>0</td>\n",
       "      <td>0</td>\n",
       "      <td>100</td>\n",
       "      <td>0</td>\n",
       "      <td>0</td>\n",
       "      <td>9</td>\n",
       "      <td>0</td>\n",
       "      <td>0</td>\n",
       "      <td>0</td>\n",
       "      <td>0</td>\n",
       "    </tr>\n",
       "    <tr>\n",
       "      <th>3</th>\n",
       "      <td>0.068917</td>\n",
       "      <td>2</td>\n",
       "      <td>0</td>\n",
       "      <td>333333.321500</td>\n",
       "      <td>254</td>\n",
       "      <td>0</td>\n",
       "      <td>2.666667e+08</td>\n",
       "      <td>0.000000</td>\n",
       "      <td>0</td>\n",
       "      <td>0</td>\n",
       "      <td>100</td>\n",
       "      <td>0</td>\n",
       "      <td>0</td>\n",
       "      <td>5</td>\n",
       "      <td>0</td>\n",
       "      <td>0</td>\n",
       "      <td>0</td>\n",
       "      <td>0</td>\n",
       "    </tr>\n",
       "    <tr>\n",
       "      <th>4</th>\n",
       "      <td>0.068917</td>\n",
       "      <td>2</td>\n",
       "      <td>0</td>\n",
       "      <td>125000.000300</td>\n",
       "      <td>254</td>\n",
       "      <td>0</td>\n",
       "      <td>1.000000e+08</td>\n",
       "      <td>0.000000</td>\n",
       "      <td>0</td>\n",
       "      <td>0</td>\n",
       "      <td>100</td>\n",
       "      <td>0</td>\n",
       "      <td>0</td>\n",
       "      <td>8</td>\n",
       "      <td>0</td>\n",
       "      <td>0</td>\n",
       "      <td>0</td>\n",
       "      <td>0</td>\n",
       "    </tr>\n",
       "    <tr>\n",
       "      <th>...</th>\n",
       "      <td>...</td>\n",
       "      <td>...</td>\n",
       "      <td>...</td>\n",
       "      <td>...</td>\n",
       "      <td>...</td>\n",
       "      <td>...</td>\n",
       "      <td>...</td>\n",
       "      <td>...</td>\n",
       "      <td>...</td>\n",
       "      <td>...</td>\n",
       "      <td>...</td>\n",
       "      <td>...</td>\n",
       "      <td>...</td>\n",
       "      <td>...</td>\n",
       "      <td>...</td>\n",
       "      <td>...</td>\n",
       "      <td>...</td>\n",
       "      <td>...</td>\n",
       "    </tr>\n",
       "    <tr>\n",
       "      <th>208679</th>\n",
       "      <td>0.455946</td>\n",
       "      <td>10</td>\n",
       "      <td>7</td>\n",
       "      <td>23.995574</td>\n",
       "      <td>184</td>\n",
       "      <td>252</td>\n",
       "      <td>1.243280e+04</td>\n",
       "      <td>196.487153</td>\n",
       "      <td>1598544296</td>\n",
       "      <td>110776819</td>\n",
       "      <td>109</td>\n",
       "      <td>72</td>\n",
       "      <td>1</td>\n",
       "      <td>1</td>\n",
       "      <td>1</td>\n",
       "      <td>0</td>\n",
       "      <td>0</td>\n",
       "      <td>9</td>\n",
       "    </tr>\n",
       "    <tr>\n",
       "      <th>208680</th>\n",
       "      <td>0.455946</td>\n",
       "      <td>8</td>\n",
       "      <td>4</td>\n",
       "      <td>19.849428</td>\n",
       "      <td>254</td>\n",
       "      <td>252</td>\n",
       "      <td>1.378799e+04</td>\n",
       "      <td>156.928538</td>\n",
       "      <td>3719265079</td>\n",
       "      <td>1614719193</td>\n",
       "      <td>133</td>\n",
       "      <td>45</td>\n",
       "      <td>1</td>\n",
       "      <td>3</td>\n",
       "      <td>1</td>\n",
       "      <td>0</td>\n",
       "      <td>0</td>\n",
       "      <td>9</td>\n",
       "    </tr>\n",
       "    <tr>\n",
       "      <th>208681</th>\n",
       "      <td>0.455946</td>\n",
       "      <td>34</td>\n",
       "      <td>181</td>\n",
       "      <td>85.301772</td>\n",
       "      <td>254</td>\n",
       "      <td>252</td>\n",
       "      <td>6.196140e+03</td>\n",
       "      <td>1278.684966</td>\n",
       "      <td>4241540555</td>\n",
       "      <td>456251163</td>\n",
       "      <td>61</td>\n",
       "      <td>1150</td>\n",
       "      <td>1</td>\n",
       "      <td>1</td>\n",
       "      <td>1</td>\n",
       "      <td>0</td>\n",
       "      <td>0</td>\n",
       "      <td>9</td>\n",
       "    </tr>\n",
       "    <tr>\n",
       "      <th>208682</th>\n",
       "      <td>0.455946</td>\n",
       "      <td>10</td>\n",
       "      <td>8</td>\n",
       "      <td>15.501940</td>\n",
       "      <td>254</td>\n",
       "      <td>252</td>\n",
       "      <td>8.587961e+03</td>\n",
       "      <td>240.685170</td>\n",
       "      <td>2181095152</td>\n",
       "      <td>2006071058</td>\n",
       "      <td>130</td>\n",
       "      <td>44</td>\n",
       "      <td>0</td>\n",
       "      <td>1</td>\n",
       "      <td>0</td>\n",
       "      <td>0</td>\n",
       "      <td>0</td>\n",
       "      <td>9</td>\n",
       "    </tr>\n",
       "    <tr>\n",
       "      <th>208683</th>\n",
       "      <td>0.455946</td>\n",
       "      <td>10</td>\n",
       "      <td>6</td>\n",
       "      <td>24.776710</td>\n",
       "      <td>254</td>\n",
       "      <td>252</td>\n",
       "      <td>1.332639e+04</td>\n",
       "      <td>192.644205</td>\n",
       "      <td>3102879555</td>\n",
       "      <td>791099619</td>\n",
       "      <td>117</td>\n",
       "      <td>45</td>\n",
       "      <td>1</td>\n",
       "      <td>1</td>\n",
       "      <td>1</td>\n",
       "      <td>0</td>\n",
       "      <td>0</td>\n",
       "      <td>9</td>\n",
       "    </tr>\n",
       "  </tbody>\n",
       "</table>\n",
       "<p>208684 rows × 18 columns</p>\n",
       "</div>"
      ],
      "text/plain": [
       "           proto  spkts  dpkts           rate  sttl  dttl         sload  \\\n",
       "0       0.068917      2      0  125000.000300   254     0  1.000000e+08   \n",
       "1       0.068917      2      0  125000.000300   254     0  1.000000e+08   \n",
       "2       0.068917      2      0  125000.000300   254     0  1.000000e+08   \n",
       "3       0.068917      2      0  333333.321500   254     0  2.666667e+08   \n",
       "4       0.068917      2      0  125000.000300   254     0  1.000000e+08   \n",
       "...          ...    ...    ...            ...   ...   ...           ...   \n",
       "208679  0.455946     10      7      23.995574   184   252  1.243280e+04   \n",
       "208680  0.455946      8      4      19.849428   254   252  1.378799e+04   \n",
       "208681  0.455946     34    181      85.301772   254   252  6.196140e+03   \n",
       "208682  0.455946     10      8      15.501940   254   252  8.587961e+03   \n",
       "208683  0.455946     10      6      24.776710   254   252  1.332639e+04   \n",
       "\n",
       "               djit       stcpb       dtcpb  smean  dmean  trans_depth  \\\n",
       "0          0.000000           0           0    100      0            0   \n",
       "1          0.000000           0           0    100      0            0   \n",
       "2          0.000000           0           0    100      0            0   \n",
       "3          0.000000           0           0    100      0            0   \n",
       "4          0.000000           0           0    100      0            0   \n",
       "...             ...         ...         ...    ...    ...          ...   \n",
       "208679   196.487153  1598544296   110776819    109     72            1   \n",
       "208680   156.928538  3719265079  1614719193    133     45            1   \n",
       "208681  1278.684966  4241540555   456251163     61   1150            1   \n",
       "208682   240.685170  2181095152  2006071058    130     44            0   \n",
       "208683   192.644205  3102879555   791099619    117     45            1   \n",
       "\n",
       "        ct_srv_src  ct_flw_http_mthd  state_CON  state_no  attack_cat  \n",
       "0                9                 0          0         0           0  \n",
       "1                9                 0          0         0           0  \n",
       "2                9                 0          0         0           0  \n",
       "3                5                 0          0         0           0  \n",
       "4                8                 0          0         0           0  \n",
       "...            ...               ...        ...       ...         ...  \n",
       "208679           1                 1          0         0           9  \n",
       "208680           3                 1          0         0           9  \n",
       "208681           1                 1          0         0           9  \n",
       "208682           1                 0          0         0           9  \n",
       "208683           1                 1          0         0           9  \n",
       "\n",
       "[208684 rows x 18 columns]"
      ]
     },
     "execution_count": 22,
     "metadata": {},
     "output_type": "execute_result"
    }
   ],
   "source": [
    "df"
   ]
  },
  {
   "cell_type": "code",
   "execution_count": 23,
   "id": "50739999",
   "metadata": {},
   "outputs": [],
   "source": [
    "X = df.drop(columns='attack_cat')\n",
    "y = df['attack_cat']"
   ]
  },
  {
   "cell_type": "code",
   "execution_count": 24,
   "id": "33987337",
   "metadata": {},
   "outputs": [],
   "source": [
    "scaler=StandardScaler()\n",
    "X=scaler.fit_transform(X)\n",
    "X_train, X_test, y_train, y_test = train_test_split(X, y, test_size=0.2, random_state=42)"
   ]
  },
  {
   "cell_type": "code",
   "execution_count": 25,
   "id": "8223419c",
   "metadata": {},
   "outputs": [
    {
     "name": "stdout",
     "output_type": "stream",
     "text": [
      "Full model accuracy: 0.7933\n"
     ]
    },
    {
     "name": "stderr",
     "output_type": "stream",
     "text": [
      "c:\\Users\\krish\\AppData\\Local\\Programs\\Python\\Python313\\Lib\\site-packages\\sklearn\\linear_model\\_logistic.py:465: ConvergenceWarning: lbfgs failed to converge (status=1):\n",
      "STOP: TOTAL NO. OF ITERATIONS REACHED LIMIT.\n",
      "\n",
      "Increase the number of iterations (max_iter) or scale the data as shown in:\n",
      "    https://scikit-learn.org/stable/modules/preprocessing.html\n",
      "Please also refer to the documentation for alternative solver options:\n",
      "    https://scikit-learn.org/stable/modules/linear_model.html#logistic-regression\n",
      "  n_iter_i = _check_optimize_result(\n"
     ]
    }
   ],
   "source": [
    "# Full model\n",
    "model = LogisticRegression()\n",
    "model.fit(X_train, y_train)\n",
    "logistic_pred_before = model.predict(X_test)\n",
    "log_accuracy_before = accuracy_score(y_test, logistic_pred_before)\n",
    "print(f\"Full model accuracy: {log_accuracy_before:.4f}\")"
   ]
  },
  {
   "cell_type": "code",
   "execution_count": 26,
   "id": "89feb55d",
   "metadata": {},
   "outputs": [
    {
     "name": "stdout",
     "output_type": "stream",
     "text": [
      "Full model accuracy: 0.9596\n"
     ]
    }
   ],
   "source": [
    "# Full model\n",
    "model = DecisionTreeClassifier()\n",
    "model.fit(X_train, y_train)\n",
    "tree_pred_before = model.predict(X_test)\n",
    "tree_accuracy_before = accuracy_score(y_test, tree_pred_before)\n",
    "print(f\"Full model accuracy: {tree_accuracy_before:.4f}\")"
   ]
  },
  {
   "cell_type": "code",
   "execution_count": 27,
   "id": "ed132834",
   "metadata": {},
   "outputs": [
    {
     "name": "stdout",
     "output_type": "stream",
     "text": [
      "Full model accuracy: 0.9716\n"
     ]
    }
   ],
   "source": [
    "# Full model\n",
    "model = RandomForestClassifier()\n",
    "model.fit(X_train, y_train)\n",
    "forest_pred_before = model.predict(X_test)\n",
    "forest_accuracy_before = accuracy_score(y_test, forest_pred_before)\n",
    "print(f\"Full model accuracy: {forest_accuracy_before:.4f}\")"
   ]
  },
  {
   "cell_type": "code",
   "execution_count": 28,
   "id": "16729310",
   "metadata": {},
   "outputs": [
    {
     "name": "stdout",
     "output_type": "stream",
     "text": [
      "Full model accuracy: 0.9453\n"
     ]
    }
   ],
   "source": [
    "# Full model\n",
    "model = KNeighborsClassifier()\n",
    "model.fit(X_train, y_train)\n",
    "knn_pred_before = model.predict(X_test)\n",
    "knn_accuracy_before = accuracy_score(y_test, knn_pred_before)\n",
    "print(f\"Full model accuracy: {knn_accuracy_before:.4f}\")"
   ]
  },
  {
   "cell_type": "code",
   "execution_count": 29,
   "id": "4cc03c91",
   "metadata": {},
   "outputs": [
    {
     "name": "stdout",
     "output_type": "stream",
     "text": [
      "Full model accuracy: 0.9655\n"
     ]
    }
   ],
   "source": [
    "# Full model\n",
    "model = XGBClassifier()\n",
    "model.fit(X_train, y_train)\n",
    "xg_pred_before = model.predict(X_test)\n",
    "xg_accuracy_before = accuracy_score(y_test, xg_pred_before)\n",
    "print(f\"Full model accuracy: {xg_accuracy_before:.4f}\")"
   ]
  },
  {
   "cell_type": "code",
   "execution_count": 30,
   "id": "5985a12e",
   "metadata": {},
   "outputs": [
    {
     "name": "stdout",
     "output_type": "stream",
     "text": [
      "[LightGBM] [Info] Auto-choosing row-wise multi-threading, the overhead of testing was 0.008203 seconds.\n",
      "You can set `force_row_wise=true` to remove the overhead.\n",
      "And if memory is not enough, you can set `force_col_wise=true`.\n",
      "[LightGBM] [Info] Total Bins 2940\n",
      "[LightGBM] [Info] Number of data points in the train set: 166947, number of used features: 16\n",
      "[LightGBM] [Info] Start training from score -2.754749\n",
      "[LightGBM] [Info] Start training from score -3.362927\n",
      "[LightGBM] [Info] Start training from score -4.331950\n",
      "[LightGBM] [Info] Start training from score -3.635845\n",
      "[LightGBM] [Info] Start training from score -2.682048\n",
      "[LightGBM] [Info] Start training from score -1.593907\n",
      "[LightGBM] [Info] Start training from score -1.722531\n",
      "[LightGBM] [Info] Start training from score -2.605074\n",
      "[LightGBM] [Info] Start training from score -1.895008\n",
      "[LightGBM] [Info] Start training from score -1.672079\n"
     ]
    },
    {
     "name": "stderr",
     "output_type": "stream",
     "text": [
      "c:\\Users\\krish\\AppData\\Local\\Programs\\Python\\Python313\\Lib\\site-packages\\sklearn\\utils\\validation.py:2739: UserWarning: X does not have valid feature names, but LGBMClassifier was fitted with feature names\n",
      "  warnings.warn(\n"
     ]
    },
    {
     "name": "stdout",
     "output_type": "stream",
     "text": [
      "Full model accuracy: 0.9606\n"
     ]
    }
   ],
   "source": [
    "# Full model\n",
    "model = LGBMClassifier()\n",
    "model.fit(X_train, y_train)\n",
    "lg_pred_before = model.predict(X_test)\n",
    "lg_accuracy_before = accuracy_score(y_test, lg_pred_before)\n",
    "print(f\"Full model accuracy: {lg_accuracy_before:.4f}\")"
   ]
  },
  {
   "cell_type": "code",
   "execution_count": 31,
   "id": "f1b6791c",
   "metadata": {},
   "outputs": [
    {
     "name": "stdout",
     "output_type": "stream",
     "text": [
      "Full model accuracy: 0.9667\n"
     ]
    }
   ],
   "source": [
    "# Full model\n",
    "model = BaggingClassifier()\n",
    "model.fit(X_train, y_train)\n",
    "bg_pred_before = model.predict(X_test)\n",
    "bg_accuracy_before = accuracy_score(y_test, bg_pred_before)\n",
    "print(f\"Full model accuracy: {bg_accuracy_before:.4f}\")"
   ]
  },
  {
   "cell_type": "code",
   "execution_count": 32,
   "id": "ea62d23c",
   "metadata": {},
   "outputs": [
    {
     "name": "stdout",
     "output_type": "stream",
     "text": [
      "Best Parameters: {'max_iter': 1500}\n"
     ]
    }
   ],
   "source": [
    "parameters = {\n",
    "    'max_iter': [1500],  # Ensure convergence\n",
    "}\n",
    "\n",
    "clf = LogisticRegression()\n",
    "grid = GridSearchCV(clf, parameters, cv=5, scoring='accuracy', n_jobs=-1)\n",
    "grid.fit(X_train, y_train)\n",
    "\n",
    "print(\"Best Parameters:\", grid.best_params_)"
   ]
  },
  {
   "cell_type": "code",
   "execution_count": 33,
   "id": "61c6869d",
   "metadata": {},
   "outputs": [],
   "source": [
    "best_model = grid.best_estimator_\n",
    "log_pred_after = best_model.predict(X_test)"
   ]
  },
  {
   "cell_type": "code",
   "execution_count": 34,
   "id": "e2c68830",
   "metadata": {},
   "outputs": [
    {
     "name": "stdout",
     "output_type": "stream",
     "text": [
      "Logistic Accuracy After Tuning: 0.8001\n"
     ]
    }
   ],
   "source": [
    "log_accuracy_after = accuracy_score(y_test, log_pred_after)\n",
    "print(f\"Logistic Accuracy After Tuning: {log_accuracy_after:.4f}\")"
   ]
  },
  {
   "cell_type": "code",
   "execution_count": 35,
   "id": "d462f537",
   "metadata": {},
   "outputs": [
    {
     "name": "stdout",
     "output_type": "stream",
     "text": [
      "Fitting 3 folds for each of 1 candidates, totalling 3 fits\n",
      "Best Parameters: {'criterion': 'gini', 'max_depth': 25, 'min_samples_leaf': 5, 'min_samples_split': 5}\n"
     ]
    }
   ],
   "source": [
    "parameters = {\n",
    "    'criterion': ['gini'],         # use only 'gini' to reduce search space\n",
    "    'max_depth': [25],         # smaller set of depths\n",
    "    'min_samples_split': [5],   # reasonable defaults\n",
    "    'min_samples_leaf': [5]     # fewer options\n",
    "}\n",
    "\n",
    "# Initialize model and GridSearchCV without StratifiedKFold (uses default 5-fold)\n",
    "clf = DecisionTreeClassifier(random_state=42)\n",
    "grid = GridSearchCV(clf, parameters, cv=3, scoring='accuracy', n_jobs=-1, verbose=1)\n",
    "\n",
    "# Fit the model\n",
    "grid.fit(X_train, y_train)\n",
    "\n",
    "# Output best parameters\n",
    "print(\"Best Parameters:\", grid.best_params_)\n"
   ]
  },
  {
   "cell_type": "code",
   "execution_count": 36,
   "id": "22e00e70",
   "metadata": {},
   "outputs": [],
   "source": [
    "best_model = grid.best_estimator_\n",
    "tree_pred_after = best_model.predict(X_test)"
   ]
  },
  {
   "cell_type": "code",
   "execution_count": 37,
   "id": "19a824c2",
   "metadata": {},
   "outputs": [
    {
     "name": "stdout",
     "output_type": "stream",
     "text": [
      "Decision Tree Accuracy After Tuning: 0.9502\n"
     ]
    }
   ],
   "source": [
    "tree_accuracy_after = accuracy_score(y_test, tree_pred_after)\n",
    "print(f\"Decision Tree Accuracy After Tuning: {tree_accuracy_after:.4f}\")"
   ]
  },
  {
   "cell_type": "code",
   "execution_count": 38,
   "id": "f2e1dccb",
   "metadata": {},
   "outputs": [
    {
     "name": "stdout",
     "output_type": "stream",
     "text": [
      "Fitting 3 folds for each of 1 candidates, totalling 3 fits\n",
      "Best Parameters: {'bootstrap': True, 'max_depth': None, 'max_features': 'sqrt', 'min_samples_leaf': 1, 'min_samples_split': 2, 'n_estimators': 100}\n"
     ]
    }
   ],
   "source": [
    "parameters = {\n",
    "    'n_estimators': [100],           # default reasonable size\n",
    "    'max_depth': [None],             # no depth limit\n",
    "    'min_samples_split': [2],        # default\n",
    "    'min_samples_leaf': [1],         # default\n",
    "    'max_features': ['sqrt'],        # default for classification\n",
    "    'bootstrap': [True]              # faster and standard\n",
    "}\n",
    "\n",
    "# Use default cross-validation (5-fold)\n",
    "clf = RandomForestClassifier(random_state=42)\n",
    "grid = GridSearchCV(clf, parameters, cv=3, scoring='accuracy', n_jobs=-1, verbose=1)\n",
    "\n",
    "# Fit the model\n",
    "grid.fit(X_train, y_train)\n",
    "\n",
    "# Output best parameters\n",
    "print(\"Best Parameters:\", grid.best_params_)"
   ]
  },
  {
   "cell_type": "code",
   "execution_count": 39,
   "id": "365f4504",
   "metadata": {},
   "outputs": [],
   "source": [
    "best_model = grid.best_estimator_\n",
    "forest_pred_after = best_model.predict(X_test)"
   ]
  },
  {
   "cell_type": "code",
   "execution_count": 40,
   "id": "86e9ffa9",
   "metadata": {},
   "outputs": [
    {
     "name": "stdout",
     "output_type": "stream",
     "text": [
      "Random Forest Accuracy After Tuning: 0.9713\n"
     ]
    }
   ],
   "source": [
    "forest_accuracy_after = accuracy_score(y_test, forest_pred_after)\n",
    "print(f\"Random Forest Accuracy After Tuning: {forest_accuracy_after:.4f}\")"
   ]
  },
  {
   "cell_type": "code",
   "execution_count": 41,
   "id": "8b46513c",
   "metadata": {},
   "outputs": [
    {
     "name": "stdout",
     "output_type": "stream",
     "text": [
      "Fitting 3 folds for each of 1 candidates, totalling 3 fits\n",
      "Best Parameters: {'algorithm': 'auto', 'leaf_size': 40, 'n_neighbors': 5, 'p': 2, 'weights': 'distance'}\n"
     ]
    }
   ],
   "source": [
    "parameters = {\n",
    "    'n_neighbors': [5],             # Standard choice, good for most cases\n",
    "    'weights': ['distance'],        # Better when data is scaled\n",
    "    'p': [2],                       # Euclidean distance\n",
    "    'algorithm': ['auto'],          # Let scikit-learn choose the best\n",
    "    'leaf_size': [40]               # Default value\n",
    "}\n",
    "\n",
    "# Use default cross-validation (5-fold)\n",
    "clf = KNeighborsClassifier()\n",
    "grid = GridSearchCV(clf, parameters, cv=3, scoring='accuracy', n_jobs=-1, verbose=1)\n",
    "\n",
    "# Fit the model\n",
    "grid.fit(X_train, y_train)\n",
    "\n",
    "# Output best parameters\n",
    "print(\"Best Parameters:\", grid.best_params_)"
   ]
  },
  {
   "cell_type": "code",
   "execution_count": 42,
   "id": "7fde4c8d",
   "metadata": {},
   "outputs": [],
   "source": [
    "best_model = grid.best_estimator_\n",
    "knn_pred_after = best_model.predict(X_test)"
   ]
  },
  {
   "cell_type": "code",
   "execution_count": 43,
   "id": "afe7217e",
   "metadata": {},
   "outputs": [
    {
     "name": "stdout",
     "output_type": "stream",
     "text": [
      "KNN Accuracy After Tuning: 0.9604\n"
     ]
    }
   ],
   "source": [
    "knn_accuracy_after = accuracy_score(y_test, knn_pred_after)\n",
    "print(f\"KNN Accuracy After Tuning: {knn_accuracy_after:.4f}\")"
   ]
  },
  {
   "cell_type": "code",
   "execution_count": 44,
   "id": "d750a71c",
   "metadata": {},
   "outputs": [
    {
     "name": "stdout",
     "output_type": "stream",
     "text": [
      "Fitting 3 folds for each of 1 candidates, totalling 3 fits\n"
     ]
    },
    {
     "name": "stderr",
     "output_type": "stream",
     "text": [
      "c:\\Users\\krish\\AppData\\Local\\Programs\\Python\\Python313\\Lib\\site-packages\\xgboost\\training.py:183: UserWarning: [14:38:14] WARNING: C:\\actions-runner\\_work\\xgboost\\xgboost\\src\\learner.cc:738: \n",
      "Parameters: { \"scale_pos_weight\" } are not used.\n",
      "\n",
      "  bst.update(dtrain, iteration=i, fobj=obj)\n"
     ]
    },
    {
     "name": "stdout",
     "output_type": "stream",
     "text": [
      "Best Parameters: {'colsample_bytree': 0.8, 'gamma': 0, 'learning_rate': 0.1, 'max_depth': None, 'n_estimators': 500, 'reg_alpha': 0, 'reg_lambda': 1, 'scale_pos_weight': 1, 'subsample': 0.8}\n"
     ]
    }
   ],
   "source": [
    "parameters = {\n",
    "    'n_estimators': [500],\n",
    "    'max_depth': [None],\n",
    "    'learning_rate': [0.1],\n",
    "    'subsample': [0.8],\n",
    "    'colsample_bytree': [0.8],\n",
    "    'gamma': [0],\n",
    "    'reg_alpha': [0],\n",
    "    'reg_lambda': [1],\n",
    "    'scale_pos_weight': [1]\n",
    "}\n",
    "\n",
    "# Use default cross-validation (5-fold)\n",
    "clf = XGBClassifier()\n",
    "grid = GridSearchCV(clf, parameters, cv=3, scoring='accuracy', n_jobs=-1, verbose=1)\n",
    "\n",
    "# Fit the model\n",
    "grid.fit(X_train, y_train)\n",
    "\n",
    "# Output best parameters\n",
    "print(\"Best Parameters:\", grid.best_params_)"
   ]
  },
  {
   "cell_type": "code",
   "execution_count": 45,
   "id": "53561ed4",
   "metadata": {},
   "outputs": [],
   "source": [
    "best_model = grid.best_estimator_\n",
    "xg_pred_after = best_model.predict(X_test)"
   ]
  },
  {
   "cell_type": "code",
   "execution_count": 46,
   "id": "73b226fb",
   "metadata": {},
   "outputs": [
    {
     "name": "stdout",
     "output_type": "stream",
     "text": [
      "KNN Accuracy After Tuning: 0.9724\n"
     ]
    }
   ],
   "source": [
    "xg_accuracy_after = accuracy_score(y_test, xg_pred_after)\n",
    "print(f\"KNN Accuracy After Tuning: {xg_accuracy_after:.4f}\")"
   ]
  },
  {
   "cell_type": "code",
   "execution_count": 47,
   "id": "ab6ab7fc",
   "metadata": {},
   "outputs": [
    {
     "name": "stdout",
     "output_type": "stream",
     "text": [
      "Fitting 3 folds for each of 1 candidates, totalling 3 fits\n",
      "[LightGBM] [Info] Auto-choosing col-wise multi-threading, the overhead of testing was 0.008373 seconds.\n",
      "You can set `force_col_wise=true` to remove the overhead.\n",
      "[LightGBM] [Info] Total Bins 2940\n",
      "[LightGBM] [Info] Number of data points in the train set: 166947, number of used features: 16\n",
      "[LightGBM] [Info] Start training from score -2.754749\n",
      "[LightGBM] [Info] Start training from score -3.362927\n",
      "[LightGBM] [Info] Start training from score -4.331950\n",
      "[LightGBM] [Info] Start training from score -3.635845\n",
      "[LightGBM] [Info] Start training from score -2.682048\n",
      "[LightGBM] [Info] Start training from score -1.593907\n",
      "[LightGBM] [Info] Start training from score -1.722531\n",
      "[LightGBM] [Info] Start training from score -2.605074\n",
      "[LightGBM] [Info] Start training from score -1.895008\n",
      "[LightGBM] [Info] Start training from score -1.672079\n",
      "Best Parameters: {'colsample_bytree': 0.8, 'learning_rate': 0.1, 'max_depth': None, 'min_child_samples': 20, 'n_estimators': 500, 'reg_alpha': 0, 'reg_lambda': 1, 'scale_pos_weight': 1, 'subsample': 0.8}\n"
     ]
    }
   ],
   "source": [
    "parameters = {\n",
    "    'n_estimators': [500],\n",
    "    'max_depth': [None],\n",
    "    'learning_rate': [0.1],\n",
    "    'subsample': [0.8],           # same as bagging_fraction in LGBM\n",
    "    'colsample_bytree': [0.8],   # same as feature_fraction in LGBM\n",
    "    'min_child_samples': [20],   # controls overfitting\n",
    "    'reg_alpha': [0],\n",
    "    'reg_lambda': [1],\n",
    "    'scale_pos_weight': [1],\n",
    "}\n",
    "clf = LGBMClassifier()\n",
    "grid = GridSearchCV(clf, parameters, cv=3, scoring='accuracy', n_jobs=-1, verbose=1)\n",
    "\n",
    "# Fit the model\n",
    "grid.fit(X_train, y_train)\n",
    "\n",
    "# Output best parameters\n",
    "print(\"Best Parameters:\", grid.best_params_)"
   ]
  },
  {
   "cell_type": "code",
   "execution_count": 48,
   "id": "b63d77c9",
   "metadata": {},
   "outputs": [
    {
     "name": "stderr",
     "output_type": "stream",
     "text": [
      "c:\\Users\\krish\\AppData\\Local\\Programs\\Python\\Python313\\Lib\\site-packages\\sklearn\\utils\\validation.py:2739: UserWarning: X does not have valid feature names, but LGBMClassifier was fitted with feature names\n",
      "  warnings.warn(\n"
     ]
    }
   ],
   "source": [
    "best_model = grid.best_estimator_\n",
    "lg_pred_after = best_model.predict(X_test)"
   ]
  },
  {
   "cell_type": "code",
   "execution_count": 49,
   "id": "417a05c6",
   "metadata": {},
   "outputs": [
    {
     "name": "stdout",
     "output_type": "stream",
     "text": [
      "KNN Accuracy After Tuning: 0.9749\n"
     ]
    }
   ],
   "source": [
    "lg_accuracy_after = accuracy_score(y_test, lg_pred_after)\n",
    "print(f\"KNN Accuracy After Tuning: {lg_accuracy_after:.4f}\")"
   ]
  },
  {
   "cell_type": "code",
   "execution_count": 50,
   "id": "bd8048db",
   "metadata": {},
   "outputs": [
    {
     "name": "stdout",
     "output_type": "stream",
     "text": [
      "Fitting 3 folds for each of 1 candidates, totalling 3 fits\n",
      "Best Parameters: {'bootstrap': True, 'bootstrap_features': False, 'max_features': 0.8, 'max_samples': 0.8, 'n_estimators': 100, 'random_state': 42}\n"
     ]
    }
   ],
   "source": [
    "parameters = {\n",
    "    'n_estimators': [100],        # number of base estimators\n",
    "    'max_samples': [0.8],         # fraction of dataset for each base learner\n",
    "    'max_features': [0.8],        # fraction of features per learner\n",
    "    'bootstrap': [True],          # with replacement\n",
    "    'bootstrap_features': [False], # no resampling of features\n",
    "    'random_state': [42]          # reproducibility\n",
    "}\n",
    "clf = BaggingClassifier()\n",
    "grid = GridSearchCV(clf, parameters, cv=3, scoring='accuracy', n_jobs=-1, verbose=1)\n",
    "\n",
    "# Fit the model\n",
    "grid.fit(X_train, y_train)\n",
    "\n",
    "# Output best parameters\n",
    "\n",
    "print(\"Best Parameters:\", grid.best_params_)"
   ]
  },
  {
   "cell_type": "code",
   "execution_count": 51,
   "id": "a0d293a4",
   "metadata": {},
   "outputs": [],
   "source": [
    "best_model = grid.best_estimator_\n",
    "bg_pred_after = best_model.predict(X_test)"
   ]
  },
  {
   "cell_type": "code",
   "execution_count": 52,
   "id": "181ee815",
   "metadata": {},
   "outputs": [
    {
     "name": "stdout",
     "output_type": "stream",
     "text": [
      "KNN Accuracy After Tuning: 0.9713\n"
     ]
    }
   ],
   "source": [
    "bg_accuracy_after = accuracy_score(y_test, bg_pred_after)\n",
    "print(f\"KNN Accuracy After Tuning: {bg_accuracy_after:.4f}\")"
   ]
  },
  {
   "cell_type": "code",
   "execution_count": 53,
   "id": "cad7edc5",
   "metadata": {},
   "outputs": [
    {
     "name": "stdout",
     "output_type": "stream",
     "text": [
      "Classification Report:\n",
      "               precision    recall  f1-score   support\n",
      "\n",
      "           0       0.70      0.87      0.78      2597\n",
      "           1       0.47      0.35      0.40      1401\n",
      "           2       0.61      0.06      0.11       487\n",
      "           3       0.65      0.51      0.57      1113\n",
      "           4       0.77      0.56      0.65      2956\n",
      "           5       0.92      0.94      0.93      8443\n",
      "           6       0.98      0.94      0.96      7611\n",
      "           7       0.46      0.43      0.44      3007\n",
      "           8       0.61      0.81      0.70      6267\n",
      "           9       0.90      0.84      0.87      7855\n",
      "\n",
      "    accuracy                           0.79     41737\n",
      "   macro avg       0.71      0.63      0.64     41737\n",
      "weighted avg       0.80      0.79      0.79     41737\n",
      "\n"
     ]
    }
   ],
   "source": [
    "print(\"Classification Report:\\n\", classification_report(y_test, logistic_pred_before))"
   ]
  },
  {
   "cell_type": "code",
   "execution_count": 54,
   "id": "1420d87d",
   "metadata": {},
   "outputs": [
    {
     "name": "stdout",
     "output_type": "stream",
     "text": [
      "Classification Report:\n",
      "               precision    recall  f1-score   support\n",
      "\n",
      "           0       0.70      0.87      0.78      2597\n",
      "           1       0.49      0.35      0.41      1401\n",
      "           2       0.53      0.06      0.10       487\n",
      "           3       0.64      0.51      0.57      1113\n",
      "           4       0.79      0.56      0.66      2956\n",
      "           5       0.92      0.94      0.93      8443\n",
      "           6       0.98      0.94      0.96      7611\n",
      "           7       0.51      0.45      0.47      3007\n",
      "           8       0.62      0.85      0.72      6267\n",
      "           9       0.90      0.84      0.87      7855\n",
      "\n",
      "    accuracy                           0.80     41737\n",
      "   macro avg       0.71      0.64      0.65     41737\n",
      "weighted avg       0.80      0.80      0.79     41737\n",
      "\n"
     ]
    }
   ],
   "source": [
    "print(\"Classification Report:\\n\", classification_report(y_test, log_pred_after))"
   ]
  },
  {
   "cell_type": "code",
   "execution_count": 55,
   "id": "df708a0d",
   "metadata": {},
   "outputs": [
    {
     "name": "stdout",
     "output_type": "stream",
     "text": [
      "Classification Report:\n",
      "               precision    recall  f1-score   support\n",
      "\n",
      "           0       0.92      0.93      0.92      2597\n",
      "           1       0.85      0.87      0.86      1401\n",
      "           2       0.69      0.68      0.68       487\n",
      "           3       0.78      0.74      0.76      1113\n",
      "           4       0.92      0.90      0.91      2956\n",
      "           5       0.99      0.99      0.99      8443\n",
      "           6       0.99      0.99      0.99      7611\n",
      "           7       0.94      0.93      0.94      3007\n",
      "           8       0.96      0.97      0.96      6267\n",
      "           9       0.99      1.00      1.00      7855\n",
      "\n",
      "    accuracy                           0.96     41737\n",
      "   macro avg       0.90      0.90      0.90     41737\n",
      "weighted avg       0.96      0.96      0.96     41737\n",
      "\n"
     ]
    }
   ],
   "source": [
    "print(\"Classification Report:\\n\", classification_report(y_test, tree_pred_before))"
   ]
  },
  {
   "cell_type": "code",
   "execution_count": 56,
   "id": "5c833141",
   "metadata": {},
   "outputs": [
    {
     "name": "stdout",
     "output_type": "stream",
     "text": [
      "Classification Report:\n",
      "               precision    recall  f1-score   support\n",
      "\n",
      "           0       0.90      0.92      0.91      2597\n",
      "           1       0.83      0.83      0.83      1401\n",
      "           2       0.60      0.59      0.60       487\n",
      "           3       0.77      0.72      0.74      1113\n",
      "           4       0.89      0.89      0.89      2956\n",
      "           5       0.99      0.98      0.98      8443\n",
      "           6       0.99      0.99      0.99      7611\n",
      "           7       0.92      0.92      0.92      3007\n",
      "           8       0.95      0.96      0.95      6267\n",
      "           9       0.99      1.00      0.99      7855\n",
      "\n",
      "    accuracy                           0.95     41737\n",
      "   macro avg       0.88      0.88      0.88     41737\n",
      "weighted avg       0.95      0.95      0.95     41737\n",
      "\n"
     ]
    }
   ],
   "source": [
    "print(\"Classification Report:\\n\", classification_report(y_test, tree_pred_after))"
   ]
  },
  {
   "cell_type": "code",
   "execution_count": 57,
   "id": "24ef5d20",
   "metadata": {},
   "outputs": [
    {
     "name": "stdout",
     "output_type": "stream",
     "text": [
      "Classification Report:\n",
      "               precision    recall  f1-score   support\n",
      "\n",
      "           0       0.92      0.93      0.93      2597\n",
      "           1       0.88      0.89      0.88      1401\n",
      "           2       0.85      0.71      0.77       487\n",
      "           3       0.86      0.83      0.84      1113\n",
      "           4       0.95      0.93      0.94      2956\n",
      "           5       1.00      0.99      0.99      8443\n",
      "           6       1.00      0.99      0.99      7611\n",
      "           7       0.97      0.96      0.96      3007\n",
      "           8       0.96      0.99      0.98      6267\n",
      "           9       1.00      1.00      1.00      7855\n",
      "\n",
      "    accuracy                           0.97     41737\n",
      "   macro avg       0.94      0.92      0.93     41737\n",
      "weighted avg       0.97      0.97      0.97     41737\n",
      "\n"
     ]
    }
   ],
   "source": [
    "print(\"Classification Report:\\n\", classification_report(y_test, forest_pred_before))"
   ]
  },
  {
   "cell_type": "code",
   "execution_count": 58,
   "id": "3977cf2c",
   "metadata": {},
   "outputs": [
    {
     "name": "stdout",
     "output_type": "stream",
     "text": [
      "Classification Report:\n",
      "               precision    recall  f1-score   support\n",
      "\n",
      "           0       0.92      0.93      0.92      2597\n",
      "           1       0.87      0.89      0.88      1401\n",
      "           2       0.85      0.70      0.76       487\n",
      "           3       0.85      0.82      0.83      1113\n",
      "           4       0.95      0.93      0.94      2956\n",
      "           5       1.00      0.99      0.99      8443\n",
      "           6       1.00      0.99      0.99      7611\n",
      "           7       0.97      0.97      0.97      3007\n",
      "           8       0.96      0.99      0.98      6267\n",
      "           9       1.00      1.00      1.00      7855\n",
      "\n",
      "    accuracy                           0.97     41737\n",
      "   macro avg       0.94      0.92      0.93     41737\n",
      "weighted avg       0.97      0.97      0.97     41737\n",
      "\n"
     ]
    }
   ],
   "source": [
    "print(\"Classification Report:\\n\", classification_report(y_test, forest_pred_after))"
   ]
  },
  {
   "cell_type": "code",
   "execution_count": 59,
   "id": "dbdb3848",
   "metadata": {},
   "outputs": [
    {
     "name": "stdout",
     "output_type": "stream",
     "text": [
      "Classification Report:\n",
      "               precision    recall  f1-score   support\n",
      "\n",
      "           0       0.88      0.92      0.90      2597\n",
      "           1       0.82      0.84      0.83      1401\n",
      "           2       0.65      0.61      0.63       487\n",
      "           3       0.81      0.67      0.73      1113\n",
      "           4       0.89      0.81      0.85      2956\n",
      "           5       0.99      0.98      0.98      8443\n",
      "           6       0.99      0.98      0.99      7611\n",
      "           7       0.88      0.90      0.89      3007\n",
      "           8       0.94      0.98      0.96      6267\n",
      "           9       0.99      1.00      0.99      7855\n",
      "\n",
      "    accuracy                           0.95     41737\n",
      "   macro avg       0.88      0.87      0.88     41737\n",
      "weighted avg       0.94      0.95      0.94     41737\n",
      "\n"
     ]
    }
   ],
   "source": [
    "print(\"Classification Report:\\n\", classification_report(y_test, knn_pred_before))"
   ]
  },
  {
   "cell_type": "code",
   "execution_count": 60,
   "id": "79057eca",
   "metadata": {},
   "outputs": [
    {
     "name": "stdout",
     "output_type": "stream",
     "text": [
      "Classification Report:\n",
      "               precision    recall  f1-score   support\n",
      "\n",
      "           0       0.90      0.92      0.91      2597\n",
      "           1       0.84      0.87      0.86      1401\n",
      "           2       0.73      0.70      0.71       487\n",
      "           3       0.87      0.71      0.78      1113\n",
      "           4       0.93      0.87      0.90      2956\n",
      "           5       0.99      0.99      0.99      8443\n",
      "           6       0.99      0.99      0.99      7611\n",
      "           7       0.92      0.94      0.93      3007\n",
      "           8       0.96      0.99      0.98      6267\n",
      "           9       0.99      1.00      0.99      7855\n",
      "\n",
      "    accuracy                           0.96     41737\n",
      "   macro avg       0.91      0.90      0.90     41737\n",
      "weighted avg       0.96      0.96      0.96     41737\n",
      "\n"
     ]
    }
   ],
   "source": [
    "\n",
    "print(\"Classification Report:\\n\", classification_report(y_test, knn_pred_after))"
   ]
  },
  {
   "cell_type": "code",
   "execution_count": 61,
   "id": "1774f6d4",
   "metadata": {},
   "outputs": [
    {
     "name": "stdout",
     "output_type": "stream",
     "text": [
      "Classification Report:\n",
      "               precision    recall  f1-score   support\n",
      "\n",
      "           0       0.89      0.95      0.92      2597\n",
      "           1       0.87      0.84      0.86      1401\n",
      "           2       0.86      0.66      0.74       487\n",
      "           3       0.85      0.79      0.82      1113\n",
      "           4       0.94      0.92      0.93      2956\n",
      "           5       0.99      0.99      0.99      8443\n",
      "           6       1.00      0.99      0.99      7611\n",
      "           7       0.95      0.96      0.95      3007\n",
      "           8       0.95      0.98      0.97      6267\n",
      "           9       0.99      1.00      1.00      7855\n",
      "\n",
      "    accuracy                           0.97     41737\n",
      "   macro avg       0.93      0.91      0.92     41737\n",
      "weighted avg       0.97      0.97      0.97     41737\n",
      "\n"
     ]
    }
   ],
   "source": [
    "\n",
    "print(\"Classification Report:\\n\", classification_report(y_test, xg_pred_before))"
   ]
  },
  {
   "cell_type": "code",
   "execution_count": 62,
   "id": "60d224ed",
   "metadata": {},
   "outputs": [
    {
     "name": "stdout",
     "output_type": "stream",
     "text": [
      "Classification Report:\n",
      "               precision    recall  f1-score   support\n",
      "\n",
      "           0       0.91      0.94      0.93      2597\n",
      "           1       0.88      0.88      0.88      1401\n",
      "           2       0.89      0.69      0.78       487\n",
      "           3       0.86      0.82      0.84      1113\n",
      "           4       0.95      0.93      0.94      2956\n",
      "           5       0.99      0.99      0.99      8443\n",
      "           6       1.00      0.99      0.99      7611\n",
      "           7       0.97      0.97      0.97      3007\n",
      "           8       0.97      0.99      0.98      6267\n",
      "           9       1.00      1.00      1.00      7855\n",
      "\n",
      "    accuracy                           0.97     41737\n",
      "   macro avg       0.94      0.92      0.93     41737\n",
      "weighted avg       0.97      0.97      0.97     41737\n",
      "\n"
     ]
    }
   ],
   "source": [
    "print(\"Classification Report:\\n\", classification_report(y_test, xg_pred_after))"
   ]
  },
  {
   "cell_type": "code",
   "execution_count": 63,
   "id": "d9ff4e05",
   "metadata": {},
   "outputs": [
    {
     "name": "stdout",
     "output_type": "stream",
     "text": [
      "Classification Report:\n",
      "               precision    recall  f1-score   support\n",
      "\n",
      "           0       0.89      0.92      0.90      2597\n",
      "           1       0.86      0.85      0.85      1401\n",
      "           2       0.68      0.65      0.66       487\n",
      "           3       0.80      0.75      0.77      1113\n",
      "           4       0.93      0.92      0.93      2956\n",
      "           5       0.99      0.99      0.99      8443\n",
      "           6       1.00      0.98      0.99      7611\n",
      "           7       0.95      0.94      0.95      3007\n",
      "           8       0.95      0.98      0.97      6267\n",
      "           9       1.00      1.00      1.00      7855\n",
      "\n",
      "    accuracy                           0.96     41737\n",
      "   macro avg       0.90      0.90      0.90     41737\n",
      "weighted avg       0.96      0.96      0.96     41737\n",
      "\n"
     ]
    }
   ],
   "source": [
    "\n",
    "print(\"Classification Report:\\n\", classification_report(y_test, lg_pred_before))"
   ]
  },
  {
   "cell_type": "code",
   "execution_count": 64,
   "id": "eb56041a",
   "metadata": {},
   "outputs": [
    {
     "name": "stdout",
     "output_type": "stream",
     "text": [
      "Classification Report:\n",
      "               precision    recall  f1-score   support\n",
      "\n",
      "           0       0.91      0.93      0.92      2597\n",
      "           1       0.89      0.88      0.88      1401\n",
      "           2       0.84      0.73      0.78       487\n",
      "           3       0.84      0.83      0.84      1113\n",
      "           4       0.96      0.95      0.95      2956\n",
      "           5       1.00      0.99      0.99      8443\n",
      "           6       1.00      0.99      0.99      7611\n",
      "           7       0.97      0.98      0.98      3007\n",
      "           8       0.98      0.99      0.99      6267\n",
      "           9       1.00      1.00      1.00      7855\n",
      "\n",
      "    accuracy                           0.97     41737\n",
      "   macro avg       0.94      0.93      0.93     41737\n",
      "weighted avg       0.97      0.97      0.97     41737\n",
      "\n"
     ]
    }
   ],
   "source": [
    "print(\"Classification Report:\\n\", classification_report(y_test, lg_pred_after))"
   ]
  },
  {
   "cell_type": "code",
   "execution_count": 65,
   "id": "c15d6eed",
   "metadata": {},
   "outputs": [
    {
     "name": "stdout",
     "output_type": "stream",
     "text": [
      "Classification Report:\n",
      "               precision    recall  f1-score   support\n",
      "\n",
      "           0       0.92      0.93      0.93      2597\n",
      "           1       0.87      0.88      0.87      1401\n",
      "           2       0.74      0.70      0.72       487\n",
      "           3       0.84      0.78      0.81      1113\n",
      "           4       0.94      0.93      0.93      2956\n",
      "           5       0.99      0.99      0.99      8443\n",
      "           6       0.99      0.99      0.99      7611\n",
      "           7       0.95      0.95      0.95      3007\n",
      "           8       0.96      0.98      0.97      6267\n",
      "           9       0.99      1.00      1.00      7855\n",
      "\n",
      "    accuracy                           0.97     41737\n",
      "   macro avg       0.92      0.91      0.92     41737\n",
      "weighted avg       0.97      0.97      0.97     41737\n",
      "\n"
     ]
    }
   ],
   "source": [
    "print(\"Classification Report:\\n\", classification_report(y_test, bg_pred_before))"
   ]
  },
  {
   "cell_type": "code",
   "execution_count": 66,
   "id": "ba5fd175",
   "metadata": {},
   "outputs": [
    {
     "name": "stdout",
     "output_type": "stream",
     "text": [
      "Classification Report:\n",
      "               precision    recall  f1-score   support\n",
      "\n",
      "           0       0.89      0.96      0.92      2597\n",
      "           1       0.89      0.87      0.88      1401\n",
      "           2       0.85      0.67      0.75       487\n",
      "           3       0.89      0.77      0.83      1113\n",
      "           4       0.94      0.94      0.94      2956\n",
      "           5       1.00      0.99      0.99      8443\n",
      "           6       1.00      0.99      0.99      7611\n",
      "           7       0.96      0.97      0.97      3007\n",
      "           8       0.97      0.99      0.98      6267\n",
      "           9       1.00      1.00      1.00      7855\n",
      "\n",
      "    accuracy                           0.97     41737\n",
      "   macro avg       0.94      0.91      0.92     41737\n",
      "weighted avg       0.97      0.97      0.97     41737\n",
      "\n"
     ]
    }
   ],
   "source": [
    "print(\"Classification Report:\\n\", classification_report(y_test, bg_pred_after))"
   ]
  },
  {
   "cell_type": "code",
   "execution_count": 69,
   "id": "81925b9a",
   "metadata": {},
   "outputs": [
    {
     "data": {
      "image/png": "[encoded data removed]",
      "text/plain": [
       "<Figure size 800x600 with 1 Axes>"
      ]
     },
     "metadata": {},
     "output_type": "display_data"
    }
   ],
   "source": [
    "from matplotlib.patches import Patch\n",
    "\n",
    "# Accuracies before tuning\n",
    "accuracies = [\n",
    "    log_accuracy_before,   # Logistic Regression\n",
    "    tree_accuracy_before,  # Decision Tree\n",
    "    forest_accuracy_before, # Random Forest\n",
    "    knn_accuracy_before,   # KNN\n",
    "    bg_accuracy_before,                  # AdaBoost (not computed)\n",
    "    xg_accuracy_before,    # XGBoost\n",
    "    lg_accuracy_before,    # LightGBM\n",
    "]\n",
    "\n",
    "# Model names and colors as in the image\n",
    "model_names = ['LR', 'DT', 'RF', 'KNN', 'Bagging', 'XGBoost', 'LightGBM',]\n",
    "colors = ['royalblue', 'orange', 'gold', 'purple', 'green', 'darkred', 'wheat']\n",
    "\n",
    "# Remove None values for plotting (if AdaBoost/Proposed not available)\n",
    "plot_names = [n for n, a in zip(model_names, accuracies) if a is not None]\n",
    "plot_accs = [a*100 for a in accuracies if a is not None]\n",
    "plot_colors = [c for c, a in zip(colors, accuracies) if a is not None]\n",
    "\n",
    "plt.figure(figsize=(8, 6))\n",
    "bars = plt.bar(plot_names, plot_accs, color=plot_colors, edgecolor='black')\n",
    "\n",
    "plt.ylim(70, 100)\n",
    "plt.ylabel('Accuracy (%)')\n",
    "plt.title('Model Accuracies Before Tuning')\n",
    "\n",
    "# Custom legend\n",
    "legend_elements = [Patch(facecolor=c, edgecolor='black', label=n) for c, n in zip(plot_colors, plot_names)]\n",
    "plt.legend(handles=legend_elements, loc='lower right', fontsize=10, title='Models')\n",
    "\n",
    "plt.show()"
   ]
  },
  {
   "cell_type": "code",
   "execution_count": 70,
   "id": "b8733534",
   "metadata": {},
   "outputs": [
    {
     "data": {
      "image/png": "[encoded data removed]",
      "text/plain": [
       "<Figure size 800x600 with 1 Axes>"
      ]
     },
     "metadata": {},
     "output_type": "display_data"
    }
   ],
   "source": [
    "# Accuracies before tuning\n",
    "accuracies = [\n",
    "    log_accuracy_after,   # Logistic Regression\n",
    "    tree_accuracy_after,  # Decision Tree\n",
    "    forest_accuracy_after, # Random Forest\n",
    "    knn_accuracy_after,   # KNN\n",
    "    bg_accuracy_after,                  # AdaBoost (not computed)\n",
    "    xg_accuracy_after,    # XGBoost\n",
    "    lg_accuracy_after,    # LightGBM\n",
    "]\n",
    "\n",
    "# Model names and colors as in the image\n",
    "model_names = ['LR', 'DT', 'RF', 'KNN', 'Bagging', 'XGBoost', 'LightGBM']\n",
    "colors = ['royalblue', 'orange', 'gold', 'purple', 'green', 'darkred', 'wheat']\n",
    "\n",
    "# Remove None values for plotting (if AdaBoost/Proposed not available)\n",
    "plot_names = [n for n, a in zip(model_names, accuracies) if a is not None]\n",
    "plot_accs = [a*100 for a in accuracies if a is not None]\n",
    "plot_colors = [c for c, a in zip(colors, accuracies) if a is not None]\n",
    "\n",
    "plt.figure(figsize=(8, 6))\n",
    "bars = plt.bar(plot_names, plot_accs, color=plot_colors, edgecolor='black')\n",
    "\n",
    "plt.ylim(70, 100)\n",
    "plt.ylabel('Accuracy (%)')\n",
    "plt.title('Model Accuracies After Tuning')\n",
    "\n",
    "# Custom legend\n",
    "legend_elements = [Patch(facecolor=c, edgecolor='black', label=n) for c, n in zip(plot_colors, plot_names)]\n",
    "plt.legend(handles=legend_elements, loc='lower right', fontsize=10, title='Models')\n",
    "\n",
    "plt.show()"
   ]
  },
  {
   "cell_type": "code",
   "execution_count": 71,
   "id": "4492f88a",
   "metadata": {},
   "outputs": [
    {
     "data": {
      "image/png": "[encoded data removed]",
      "text/plain": [
       "<Figure size 1000x800 with 1 Axes>"
      ]
     },
     "metadata": {},
     "output_type": "display_data"
    }
   ],
   "source": [
    "from sklearn.preprocessing import label_binarize\n",
    "from sklearn.metrics import roc_curve, auc\n",
    "from itertools import cycle\n",
    "\n",
    "# Binarize the output for multiclass ROC\n",
    "n_classes = len(le.classes_)\n",
    "y_test_bin = label_binarize(y_test, classes=range(n_classes))\n",
    "\n",
    "# Collect predictions for all models before tuning\n",
    "model_preds = [\n",
    "    logistic_pred_before,  # Logistic Regression\n",
    "    tree_pred_before,      # Decision Tree\n",
    "    forest_pred_before,    # Random Forest\n",
    "    knn_pred_before,       # KNN\n",
    "    bg_pred_before,        # Bagging\n",
    "    xg_pred_before,        # XGBoost\n",
    "    lg_pred_before         # LightGBM\n",
    "]\n",
    "model_names = ['LR', 'DT', 'RF', 'KNN', 'Bagging', 'XGBoost', 'LightGBM']\n",
    "colors = cycle(['royalblue', 'orange', 'gold', 'purple', 'green', 'darkred', 'wheat'])\n",
    "\n",
    "plt.figure(figsize=(10, 8))\n",
    "\n",
    "for preds, name, color in zip(model_preds, model_names, colors):\n",
    "    # Binarize predictions\n",
    "    preds_bin = label_binarize(preds, classes=range(n_classes))\n",
    "    # Compute ROC curve and ROC area for each class, then average (macro)\n",
    "    fpr = dict()\n",
    "    tpr = dict()\n",
    "    roc_auc = dict()\n",
    "    for i in range(n_classes):\n",
    "        fpr[i], tpr[i], _ = roc_curve(y_test_bin[:, i], preds_bin[:, i])\n",
    "        roc_auc[i] = auc(fpr[i], tpr[i])\n",
    "    # Compute macro-average ROC curve and AUC\n",
    "    all_fpr = np.unique(np.concatenate([fpr[i] for i in range(n_classes)]))\n",
    "    mean_tpr = np.zeros_like(all_fpr)\n",
    "    for i in range(n_classes):\n",
    "        mean_tpr += np.interp(all_fpr, fpr[i], tpr[i])\n",
    "    mean_tpr /= n_classes\n",
    "    macro_auc = auc(all_fpr, mean_tpr)\n",
    "    plt.plot(all_fpr, mean_tpr, color=color, label=f'{name} (AUC = {macro_auc:.2f})')\n",
    "\n",
    "plt.plot([0, 1], [0, 1], 'k--', lw=2)\n",
    "plt.xlim([0.0, 1.0])\n",
    "plt.ylim([0.0, 1.05])\n",
    "plt.xlabel('False Positive Rate')\n",
    "plt.ylabel('True Positive Rate')\n",
    "plt.title('Combined ROC Curve (Macro-average) Before Tuning')\n",
    "plt.legend(loc=\"lower right\")\n",
    "plt.grid(True)\n",
    "plt.show()"
   ]
  },
  {
   "cell_type": "code",
   "execution_count": 72,
   "id": "ccb88922",
   "metadata": {},
   "outputs": [
    {
     "data": {
      "image/png": "[encoded data removed]",
      "text/plain": [
       "<Figure size 1000x800 with 1 Axes>"
      ]
     },
     "metadata": {},
     "output_type": "display_data"
    }
   ],
   "source": [
    "from sklearn.preprocessing import label_binarize\n",
    "from sklearn.metrics import roc_curve, auc\n",
    "from itertools import cycle\n",
    "\n",
    "# Binarize the output for multiclass ROC\n",
    "n_classes = len(le.classes_)\n",
    "y_test_bin = label_binarize(y_test, classes=range(n_classes))\n",
    "\n",
    "# Collect predictions for all models before tuning\n",
    "model_preds = [\n",
    "    log_pred_after,  # Logistic Regression\n",
    "    tree_pred_after,      # Decision Tree\n",
    "    forest_pred_after,    # Random Forest\n",
    "    knn_pred_after,       # KNN\n",
    "    bg_pred_after,        # Bagging\n",
    "    xg_pred_after,        # XGBoost\n",
    "    lg_pred_after         # LightGBM\n",
    "]\n",
    "model_names = ['LR', 'DT', 'RF', 'KNN', 'Bagging', 'XGBoost', 'LightGBM']\n",
    "colors = cycle(['royalblue', 'orange', 'gold', 'purple', 'green', 'darkred', 'wheat'])\n",
    "\n",
    "plt.figure(figsize=(10, 8))\n",
    "\n",
    "for preds, name, color in zip(model_preds, model_names, colors):\n",
    "    # Binarize predictions\n",
    "    preds_bin = label_binarize(preds, classes=range(n_classes))\n",
    "    # Compute ROC curve and ROC area for each class, then average (macro)\n",
    "    fpr = dict()\n",
    "    tpr = dict()\n",
    "    roc_auc = dict()\n",
    "    for i in range(n_classes):\n",
    "        fpr[i], tpr[i], _ = roc_curve(y_test_bin[:, i], preds_bin[:, i])\n",
    "        roc_auc[i] = auc(fpr[i], tpr[i])\n",
    "    # Compute macro-average ROC curve and AUC\n",
    "    all_fpr = np.unique(np.concatenate([fpr[i] for i in range(n_classes)]))\n",
    "    mean_tpr = np.zeros_like(all_fpr)\n",
    "    for i in range(n_classes):\n",
    "        mean_tpr += np.interp(all_fpr, fpr[i], tpr[i])\n",
    "    mean_tpr /= n_classes\n",
    "    macro_auc = auc(all_fpr, mean_tpr)\n",
    "    plt.plot(all_fpr, mean_tpr, color=color, label=f'{name} (AUC = {macro_auc:.2f})')\n",
    "\n",
    "plt.plot([0, 1], [0, 1], 'k--', lw=2)\n",
    "plt.xlim([0.0, 1.0])\n",
    "plt.ylim([0.0, 1.05])\n",
    "plt.xlabel('False Positive Rate')\n",
    "plt.ylabel('True Positive Rate')\n",
    "plt.title('Combined ROC Curve (Macro-average) After Tuning')\n",
    "plt.legend(loc=\"lower right\")\n",
    "plt.grid(True)\n",
    "plt.show()"
   ]
  },
  {
   "cell_type": "code",
   "execution_count": 74,
   "id": "b5ff5d0e",
   "metadata": {},
   "outputs": [
    {
     "data": {
      "image/png": "[encoded data removed]",
      "text/plain": [
       "<Figure size 800x600 with 1 Axes>"
      ]
     },
     "metadata": {},
     "output_type": "display_data"
    }
   ],
   "source": [
    "from sklearn.metrics import precision_score\n",
    "\n",
    "# Calculate macro precision for each model before tuning\n",
    "precisions = [\n",
    "    precision_score(y_test, logistic_pred_before, average='macro'),\n",
    "    precision_score(y_test, tree_pred_before, average='macro'),\n",
    "    precision_score(y_test, forest_pred_before, average='macro'),\n",
    "    precision_score(y_test, knn_pred_before, average='macro'),\n",
    "    precision_score(y_test, bg_pred_before, average='macro'),\n",
    "    precision_score(y_test, xg_pred_before, average='macro'),\n",
    "    precision_score(y_test, lg_pred_before, average='macro'),\n",
    "]\n",
    "\n",
    "model_names = ['LR', 'DT', 'RF', 'KNN', 'Bagging', 'XGBoost', 'LightGBM']\n",
    "colors = ['royalblue', 'orange', 'gold', 'purple', 'green', 'darkred', 'wheat']\n",
    "\n",
    "plot_names = [n for n, p in zip(model_names, precisions) if p is not None]\n",
    "plot_precs = [p*100 for p in precisions if p is not None]\n",
    "plot_colors = [c for c, p in zip(colors, precisions) if p is not None]\n",
    "\n",
    "plt.figure(figsize=(8, 6))\n",
    "bars = plt.bar(plot_names, plot_precs, color=plot_colors, edgecolor='black')\n",
    "\n",
    "plt.ylim(70, 100)\n",
    "plt.ylabel('Precision (%)')\n",
    "plt.title('Model Macro Precision Before Tuning')\n",
    "\n",
    "legend_elements = [Patch(facecolor=c, edgecolor='black', label=n) for c, n in zip(plot_colors, plot_names)]\n",
    "plt.legend(handles=legend_elements, loc='lower right', fontsize=10, title='Models')\n",
    "\n",
    "plt.show()"
   ]
  },
  {
   "cell_type": "code",
   "execution_count": 76,
   "id": "a3fc9275",
   "metadata": {},
   "outputs": [
    {
     "data": {
      "image/png": "[encoded data removed]",
      "text/plain": [
       "<Figure size 800x600 with 1 Axes>"
      ]
     },
     "metadata": {},
     "output_type": "display_data"
    }
   ],
   "source": [
    "from sklearn.metrics import precision_score\n",
    "\n",
    "# Calculate macro precision for each model after tuning\n",
    "precisions_after = [\n",
    "    precision_score(y_test, log_pred_after, average='macro'),\n",
    "    precision_score(y_test, tree_pred_after, average='macro'),\n",
    "    precision_score(y_test, forest_pred_after, average='macro'),\n",
    "    precision_score(y_test, knn_pred_after, average='macro'),\n",
    "    precision_score(y_test, bg_pred_after, average='macro'),\n",
    "    precision_score(y_test, xg_pred_after, average='macro'),\n",
    "    precision_score(y_test, lg_pred_after, average='macro'),\n",
    "]\n",
    "\n",
    "model_names = ['LR', 'DT', 'RF', 'KNN', 'Bagging', 'XGBoost', 'LightGBM']\n",
    "colors = ['royalblue', 'orange', 'gold', 'purple', 'green', 'darkred', 'wheat']\n",
    "\n",
    "plot_names = [n for n, p in zip(model_names, precisions_after) if p is not None]\n",
    "plot_precs = [p*100 for p in precisions_after if p is not None]\n",
    "plot_colors = [c for c, p in zip(colors, precisions_after) if p is not None]\n",
    "\n",
    "plt.figure(figsize=(8, 6))\n",
    "bars = plt.bar(plot_names, plot_precs, color=plot_colors, edgecolor='black')\n",
    "\n",
    "plt.ylim(70, 100)\n",
    "plt.ylabel('Precision (%)')\n",
    "plt.title('Model Macro Precision After Tuning')\n",
    "\n",
    "legend_elements = [Patch(facecolor=c, edgecolor='black', label=n) for c, n in zip(plot_colors, plot_names)]\n",
    "plt.legend(handles=legend_elements, loc='lower right', fontsize=10, title='Models')\n",
    "\n",
    "plt.show()"
   ]
  },
  {
   "cell_type": "code",
   "execution_count": 79,
   "id": "66d2ec61",
   "metadata": {},
   "outputs": [
    {
     "data": {
      "image/png": "[encoded data removed]",
      "text/plain": [
       "<Figure size 800x600 with 1 Axes>"
      ]
     },
     "metadata": {},
     "output_type": "display_data"
    }
   ],
   "source": [
    "from sklearn.metrics import recall_score\n",
    "\n",
    "# Calculate macro recall for each model before tuning\n",
    "recalls = [\n",
    "    recall_score(y_test, logistic_pred_before, average='macro'),\n",
    "    recall_score(y_test, tree_pred_before, average='macro'),\n",
    "    recall_score(y_test, forest_pred_before, average='macro'),\n",
    "    recall_score(y_test, knn_pred_before, average='macro'),\n",
    "    recall_score(y_test, bg_pred_before, average='macro'),\n",
    "    recall_score(y_test, xg_pred_before, average='macro'),\n",
    "    recall_score(y_test, lg_pred_before, average='macro'),\n",
    "]\n",
    "\n",
    "model_names = ['LR', 'DT', 'RF', 'KNN', 'Bagging', 'XGBoost', 'LightGBM']\n",
    "colors = ['royalblue', 'orange', 'gold', 'purple', 'green', 'darkred', 'wheat']\n",
    "\n",
    "plot_names = [n for n, r in zip(model_names, recalls) if r is not None]\n",
    "plot_recalls = [r*100 for r in recalls if r is not None]\n",
    "plot_colors = [c for c, r in zip(colors, recalls) if r is not None]\n",
    "\n",
    "plt.figure(figsize=(8, 6))\n",
    "bars = plt.bar(plot_names, plot_recalls, color=plot_colors, edgecolor='black')\n",
    "\n",
    "plt.ylim(60, 100)\n",
    "plt.ylabel('Recall (%)')\n",
    "plt.title('Model Macro Recall Before Tuning')\n",
    "\n",
    "legend_elements = [Patch(facecolor=c, edgecolor='black', label=n) for c, n in zip(plot_colors, plot_names)]\n",
    "plt.legend(handles=legend_elements, loc='lower right', fontsize=10, title='Models')\n",
    "\n",
    "\n",
    "plt.show()"
   ]
  },
  {
   "cell_type": "code",
   "execution_count": 80,
   "id": "c38698dd",
   "metadata": {},
   "outputs": [
    {
     "data": {
      "image/png": "[encoded data removed]",
      "text/plain": [
       "<Figure size 800x600 with 1 Axes>"
      ]
     },
     "metadata": {},
     "output_type": "display_data"
    }
   ],
   "source": [
    "from sklearn.metrics import recall_score\n",
    "\n",
    "# Calculate macro recall for each model after tuning\n",
    "recalls_after = [\n",
    "    recall_score(y_test, log_pred_after, average='macro'),\n",
    "    recall_score(y_test, tree_pred_after, average='macro'),\n",
    "    recall_score(y_test, forest_pred_after, average='macro'),\n",
    "    recall_score(y_test, knn_pred_after, average='macro'),\n",
    "    recall_score(y_test, bg_pred_after, average='macro'),\n",
    "    recall_score(y_test, xg_pred_after, average='macro'),\n",
    "    recall_score(y_test, lg_pred_after, average='macro'),\n",
    "]\n",
    "\n",
    "model_names = ['LR', 'DT', 'RF', 'KNN', 'Bagging', 'XGBoost', 'LightGBM']\n",
    "colors = ['royalblue', 'orange', 'gold', 'purple', 'green', 'darkred', 'wheat']\n",
    "\n",
    "plot_names = [n for n, r in zip(model_names, recalls_after) if r is not None]\n",
    "plot_recalls = [r*100 for r in recalls_after if r is not None]\n",
    "plot_colors = [c for c, r in zip(colors, recalls_after) if r is not None]\n",
    "\n",
    "plt.figure(figsize=(8, 6))\n",
    "bars = plt.bar(plot_names, plot_recalls, color=plot_colors, edgecolor='black')\n",
    "\n",
    "plt.ylim(60, 100)\n",
    "plt.ylabel('Recall (%)')\n",
    "plt.title('Model Macro Recall After Tuning')\n",
    "\n",
    "legend_elements = [Patch(facecolor=c, edgecolor='black', label=n) for c, n in zip(plot_colors, plot_names)]\n",
    "plt.legend(handles=legend_elements, loc='lower right', fontsize=10, title='Models')\n",
    "\n",
    "plt.show()"
   ]
  },
  {
   "cell_type": "code",
   "execution_count": 82,
   "id": "4047a73f",
   "metadata": {},
   "outputs": [
    {
     "data": {
      "image/png": "[encoded data removed]",
      "text/plain": [
       "<Figure size 800x600 with 1 Axes>"
      ]
     },
     "metadata": {},
     "output_type": "display_data"
    }
   ],
   "source": [
    "from sklearn.metrics import f1_score\n",
    "\n",
    "# Calculate macro F1 for each model before tuning\n",
    "f1s = [\n",
    "    f1_score(y_test, logistic_pred_before, average='macro'),\n",
    "    f1_score(y_test, tree_pred_before, average='macro'),\n",
    "    f1_score(y_test, forest_pred_before, average='macro'),\n",
    "    f1_score(y_test, knn_pred_before, average='macro'),\n",
    "    f1_score(y_test, bg_pred_before, average='macro'),\n",
    "    f1_score(y_test, xg_pred_before, average='macro'),\n",
    "    f1_score(y_test, lg_pred_before, average='macro'),\n",
    "]\n",
    "\n",
    "model_names = ['LR', 'DT', 'RF', 'KNN', 'Bagging', 'XGBoost', 'LightGBM']\n",
    "colors = ['royalblue', 'orange', 'gold', 'purple', 'green', 'darkred', 'wheat']\n",
    "\n",
    "plot_names = [n for n, f in zip(model_names, f1s) if f is not None]\n",
    "plot_f1s = [f*100 for f in f1s if f is not None]\n",
    "plot_colors = [c for c, f in zip(colors, f1s) if f is not None]\n",
    "\n",
    "plt.figure(figsize=(8, 6))\n",
    "bars = plt.bar(plot_names, plot_f1s, color=plot_colors, edgecolor='black')\n",
    "\n",
    "plt.ylim(60, 100)\n",
    "plt.ylabel('F1 Score (%)')\n",
    "plt.title('Model Macro F1 Score Before Tuning')\n",
    "\n",
    "legend_elements = [Patch(facecolor=c, edgecolor='black', label=n) for c, n in zip(plot_colors, plot_names)]\n",
    "plt.legend(handles=legend_elements, loc='lower right', fontsize=10, title='Models')\n",
    "\n",
    "plt.show()"
   ]
  },
  {
   "cell_type": "code",
   "execution_count": 83,
   "id": "38c62f23",
   "metadata": {},
   "outputs": [
    {
     "data": {
      "image/png": "[encoded data removed]",
      "text/plain": [
       "<Figure size 800x600 with 1 Axes>"
      ]
     },
     "metadata": {},
     "output_type": "display_data"
    }
   ],
   "source": [
    "from sklearn.metrics import f1_score\n",
    "\n",
    "# Calculate macro F1 for each model before tuning\n",
    "f1s = [\n",
    "    f1_score(y_test, log_pred_after, average='macro'),\n",
    "    f1_score(y_test, tree_pred_after, average='macro'),\n",
    "    f1_score(y_test, forest_pred_after, average='macro'),\n",
    "    f1_score(y_test, knn_pred_after, average='macro'),\n",
    "    f1_score(y_test, bg_pred_after, average='macro'),\n",
    "    f1_score(y_test, xg_pred_after, average='macro'),\n",
    "    f1_score(y_test, lg_pred_after, average='macro'),\n",
    "]\n",
    "\n",
    "model_names = ['LR', 'DT', 'RF', 'KNN', 'Bagging', 'XGBoost', 'LightGBM']\n",
    "colors = ['royalblue', 'orange', 'gold', 'purple', 'green', 'darkred', 'wheat']\n",
    "\n",
    "plot_names = [n for n, f in zip(model_names, f1s) if f is not None]\n",
    "plot_f1s = [f*100 for f in f1s if f is not None]\n",
    "plot_colors = [c for c, f in zip(colors, f1s) if f is not None]\n",
    "\n",
    "plt.figure(figsize=(8, 6))\n",
    "bars = plt.bar(plot_names, plot_f1s, color=plot_colors, edgecolor='black')\n",
    "\n",
    "plt.ylim(60, 100)\n",
    "plt.ylabel('F1 Score (%)')\n",
    "plt.title('Model Macro F1 Score After Tuning')\n",
    "\n",
    "legend_elements = [Patch(facecolor=c, edgecolor='black', label=n) for c, n in zip(plot_colors, plot_names)]\n",
    "plt.legend(handles=legend_elements, loc='lower right', fontsize=10, title='Models')\n",
    "\n",
    "plt.show()"
   ]
  },
  {
   "cell_type": "code",
   "execution_count": 90,
   "id": "19dd92b5",
   "metadata": {},
   "outputs": [
    {
     "ename": "NameError",
     "evalue": "name 'indices' is not defined",
     "output_type": "error",
     "traceback": [
      "\u001b[31m---------------------------------------------------------------------------\u001b[39m",
      "\u001b[31mNameError\u001b[39m                                 Traceback (most recent call last)",
      "\u001b[36mCell\u001b[39m\u001b[36m \u001b[39m\u001b[32mIn[90]\u001b[39m\u001b[32m, line 7\u001b[39m\n\u001b[32m      4\u001b[39m importances = result.importances_mean\n\u001b[32m      6\u001b[39m \u001b[38;5;66;03m# Plot\u001b[39;00m\n\u001b[32m----> \u001b[39m\u001b[32m7\u001b[39m plt.barh([feat_names[i] \u001b[38;5;28;01mfor\u001b[39;00m i \u001b[38;5;129;01min\u001b[39;00m \u001b[43mindices\u001b[49m], importances[indices])\n\u001b[32m      8\u001b[39m plt.title(\u001b[33m\"\u001b[39m\u001b[33mPermutation Importances\u001b[39m\u001b[33m\"\u001b[39m)\n\u001b[32m      9\u001b[39m plt.show()\n",
      "\u001b[31mNameError\u001b[39m: name 'indices' is not defined"
     ]
    }
   ],
   "source": [
    "from sklearn.inspection import permutation_importance\n",
    "\n",
    "result = permutation_importance(model, X_test, y_test, n_repeats=10, random_state=42)\n",
    "importances = result.importances_mean\n",
    "\n",
    "# Plot\n",
    "plt.barh([feat_names[i] for i in indices], importances[indices])\n",
    "plt.title(\"Permutation Importances\")\n",
    "plt.show()"
   ]
  },
  {
   "cell_type": "code",
   "execution_count": 91,
   "id": "c0957d2a",
   "metadata": {},
   "outputs": [
    {
     "data": {
      "image/png": "[encoded data removed]",
      "text/plain": [
       "<Figure size 800x500 with 1 Axes>"
      ]
     },
     "metadata": {},
     "output_type": "display_data"
    },
    {
     "name": "stdout",
     "output_type": "stream",
     "text": [
      "Top 5 features by permutation importance:\n",
      "f10: 0.4157\n",
      "f4: 0.3174\n",
      "f13: 0.2065\n",
      "f11: 0.1693\n",
      "f2: 0.1444\n"
     ]
    }
   ],
   "source": [
    "from sklearn.inspection import permutation_importance\n",
    "\n",
    "# Compute permutation importances\n",
    "result = permutation_importance(model, X_test, y_test, n_repeats=10, random_state=42)\n",
    "importances = result.importances_mean\n",
    "\n",
    "# Feature names\n",
    "feat_names = X_test.columns if hasattr(X_test, 'columns') else [f\"f{i}\" for i in range(X_test.shape[1])]\n",
    "\n",
    "# Get top 5 feature indices\n",
    "top_indices = np.argsort(importances)[-5:][::-1]\n",
    "\n",
    "# Plot top 5 permutation importances\n",
    "plt.figure(figsize=(8, 5))\n",
    "plt.barh([feat_names[i] for i in top_indices][::-1], importances[top_indices][::-1])\n",
    "plt.title(\"Top 5 Permutation Importances\")\n",
    "plt.xlabel(\"Mean Accuracy Decrease\")\n",
    "plt.tight_layout()\n",
    "plt.show()\n",
    "\n",
    "# Optional: Print the top 5 features\n",
    "print(\"Top 5 features by permutation importance:\")\n",
    "for i in top_indices:\n",
    "    print(f\"{feat_names[i]}: {importances[i]:.4f}\")\n"
   ]
  },
  {
   "cell_type": "code",
   "execution_count": 92,
   "id": "4ed221c5",
   "metadata": {},
   "outputs": [
    {
     "data": {
      "image/png": "[encoded data removed]",
      "text/plain": [
       "<Figure size 800x500 with 1 Axes>"
      ]
     },
     "metadata": {},
     "output_type": "display_data"
    },
    {
     "name": "stdout",
     "output_type": "stream",
     "text": [
      "Top 5 features by permutation importance:\n",
      "smean: 0.4157\n",
      "sttl: 0.3174\n",
      "ct_srv_src: 0.2065\n",
      "dmean: 0.1693\n",
      "dpkts: 0.1444\n"
     ]
    }
   ],
   "source": [
    "# Plot top 5 permutation importances with feature names instead of f0, f1, etc.\n",
    "# Use 'feature_names' list for mapping indices to names\n",
    "\n",
    "plt.figure(figsize=(8, 5))\n",
    "plt.barh([feature_names[i] for i in top_indices][::-1], importances[top_indices][::-1])\n",
    "plt.title(\"Top 5 Permutation Importances\")\n",
    "plt.xlabel(\"Mean Accuracy Decrease\")\n",
    "plt.tight_layout()\n",
    "plt.show()\n",
    "\n",
    "# Print the top 5 features by permutation importance\n",
    "print(\"Top 5 features by permutation importance:\")\n",
    "for i in top_indices:\n",
    "    print(f\"{feature_names[i]}: {importances[i]:.4f}\")"
   ]
  },
  {
   "cell_type": "code",
   "execution_count": null,
   "id": "dd9acef1",
   "metadata": {},
   "outputs": [],
   "source": []
  },
  {
   "cell_type": "code",
   "execution_count": null,
   "id": "9c3e49b9",
   "metadata": {},
   "outputs": [],
   "source": []
  }
 ],
 "metadata": {
  "kernelspec": {
   "display_name": "Python 3",
   "language": "python",
   "name": "python3"
  },
  "language_info": {
   "codemirror_mode": {
    "name": "ipython",
    "version": 3
   },
   "file_extension": ".py",
   "mimetype": "text/x-python",
   "name": "python",
   "nbconvert_exporter": "python",
   "pygments_lexer": "ipython3",
   "version": "3.13.1"
  }
 },
 "nbformat": 4,
 "nbformat_minor": 5
}
